{
 "cells": [
  {
   "cell_type": "markdown",
   "metadata": {},
   "source": [
    "# Обучение логистической регрессии, случайного леса и градиентного бустинга"
   ]
  },
  {
   "cell_type": "markdown",
   "metadata": {},
   "source": [
    "## 1 Импорт библиотек, инициализация глобальных констант"
   ]
  },
  {
   "cell_type": "markdown",
   "metadata": {},
   "source": [
    "### 1.1 Импорт библиотек"
   ]
  },
  {
   "cell_type": "code",
   "execution_count": 1,
   "metadata": {
    "execution": {
     "iopub.execute_input": "2023-02-14T22:09:47.591623Z",
     "iopub.status.busy": "2023-02-14T22:09:47.590852Z",
     "iopub.status.idle": "2023-02-14T22:09:48.948523Z",
     "shell.execute_reply": "2023-02-14T22:09:48.947274Z",
     "shell.execute_reply.started": "2023-02-14T22:09:47.591463Z"
    }
   },
   "outputs": [],
   "source": [
    "import pandas as pd\n",
    "import numpy as np\n",
    "from matplotlib import pyplot as plt\n",
    "from pathlib import Path\n",
    "from colorama import Fore, Back, Style\n",
    "\n",
    "from sklearn.compose import ColumnTransformer\n",
    "from sklearn.preprocessing import OneHotEncoder, OrdinalEncoder, StandardScaler\n",
    "from sklearn.linear_model import LogisticRegression\n",
    "from sklearn.ensemble import GradientBoostingClassifier, RandomForestClassifier\n",
    "from sklearn.metrics import roc_auc_score, roc_curve\n",
    "from sklearn.model_selection import StratifiedKFold, train_test_split"
   ]
  },
  {
   "cell_type": "markdown",
   "metadata": {},
   "source": [
    "### 1.2 Инициализация констант"
   ]
  },
  {
   "cell_type": "code",
   "execution_count": 2,
   "metadata": {
    "execution": {
     "iopub.execute_input": "2023-02-14T22:09:48.951689Z",
     "iopub.status.busy": "2023-02-14T22:09:48.951018Z",
     "iopub.status.idle": "2023-02-14T22:09:48.958210Z",
     "shell.execute_reply": "2023-02-14T22:09:48.956995Z",
     "shell.execute_reply.started": "2023-02-14T22:09:48.951645Z"
    }
   },
   "outputs": [],
   "source": [
    "# путь к папке с данными\n",
    "path = Path('C:/Users/alexander/imputed_data')\n",
    "# название целевой переменной\n",
    "TARGET_NAME = 'Approved'\n",
    "# количество фолдов для кросс-валидации\n",
    "N_FOLDS = 5\n",
    "# random state для воспроизводимости\n",
    "RANDOM_STATE = 42\n",
    "# размер отложенной выборки\n",
    "TEST_SIZE = 0.2"
   ]
  },
  {
   "cell_type": "markdown",
   "metadata": {},
   "source": [
    "## 2 Подготовка данных"
   ]
  },
  {
   "cell_type": "code",
   "execution_count": 3,
   "metadata": {
    "execution": {
     "iopub.execute_input": "2023-02-14T22:09:48.960340Z",
     "iopub.status.busy": "2023-02-14T22:09:48.959276Z",
     "iopub.status.idle": "2023-02-14T22:09:49.999700Z",
     "shell.execute_reply": "2023-02-14T22:09:49.994872Z",
     "shell.execute_reply.started": "2023-02-14T22:09:48.960302Z"
    }
   },
   "outputs": [
    {
     "data": {
      "text/html": [
       "<div>\n",
       "<style scoped>\n",
       "    .dataframe tbody tr th:only-of-type {\n",
       "        vertical-align: middle;\n",
       "    }\n",
       "\n",
       "    .dataframe tbody tr th {\n",
       "        vertical-align: top;\n",
       "    }\n",
       "\n",
       "    .dataframe thead th {\n",
       "        text-align: right;\n",
       "    }\n",
       "</style>\n",
       "<table border=\"1\" class=\"dataframe\">\n",
       "  <thead>\n",
       "    <tr style=\"text-align: right;\">\n",
       "      <th></th>\n",
       "      <th>ID</th>\n",
       "      <th>Gender</th>\n",
       "      <th>City_Code</th>\n",
       "      <th>City_Category</th>\n",
       "      <th>Employer_Code</th>\n",
       "      <th>Employer_Category1</th>\n",
       "      <th>Employer_Category2</th>\n",
       "      <th>Monthly_Income</th>\n",
       "      <th>Customer_Existing_Primary_Bank_Code</th>\n",
       "      <th>Primary_Bank_Type</th>\n",
       "      <th>...</th>\n",
       "      <th>Credit_over_income</th>\n",
       "      <th>Credit_pct_over_income</th>\n",
       "      <th>Monthly_Income_in_city</th>\n",
       "      <th>Monthly_Income_at_employer</th>\n",
       "      <th>Monthly_Income_in_source_category</th>\n",
       "      <th>Monthly_Income_over_city_income</th>\n",
       "      <th>Monthly_Income_over_employeer_income</th>\n",
       "      <th>Monthly_Income_over_category_income</th>\n",
       "      <th>Loan_Amount_is_null</th>\n",
       "      <th>Age</th>\n",
       "    </tr>\n",
       "  </thead>\n",
       "  <tbody>\n",
       "    <tr>\n",
       "      <th>0</th>\n",
       "      <td>APPC90493171225</td>\n",
       "      <td>Female</td>\n",
       "      <td>C10001</td>\n",
       "      <td>A</td>\n",
       "      <td>another</td>\n",
       "      <td>A</td>\n",
       "      <td>4.0</td>\n",
       "      <td>2000.0</td>\n",
       "      <td>B001</td>\n",
       "      <td>P</td>\n",
       "      <td>...</td>\n",
       "      <td>0.000000</td>\n",
       "      <td>0.000000</td>\n",
       "      <td>13461.737114</td>\n",
       "      <td>2000.000000</td>\n",
       "      <td>4517.348356</td>\n",
       "      <td>0.148569</td>\n",
       "      <td>1.000000</td>\n",
       "      <td>0.442738</td>\n",
       "      <td>1</td>\n",
       "      <td>36</td>\n",
       "    </tr>\n",
       "    <tr>\n",
       "      <th>1</th>\n",
       "      <td>APPD40611263344</td>\n",
       "      <td>Male</td>\n",
       "      <td>C10003</td>\n",
       "      <td>A</td>\n",
       "      <td>COM0000002</td>\n",
       "      <td>C</td>\n",
       "      <td>1.0</td>\n",
       "      <td>3500.0</td>\n",
       "      <td>B002</td>\n",
       "      <td>P</td>\n",
       "      <td>...</td>\n",
       "      <td>2.857143</td>\n",
       "      <td>0.378571</td>\n",
       "      <td>4130.332287</td>\n",
       "      <td>4789.257987</td>\n",
       "      <td>4517.348356</td>\n",
       "      <td>0.847389</td>\n",
       "      <td>0.730802</td>\n",
       "      <td>0.774791</td>\n",
       "      <td>0</td>\n",
       "      <td>29</td>\n",
       "    </tr>\n",
       "    <tr>\n",
       "      <th>2</th>\n",
       "      <td>APPE70289249423</td>\n",
       "      <td>Male</td>\n",
       "      <td>another</td>\n",
       "      <td>C</td>\n",
       "      <td>another</td>\n",
       "      <td>C</td>\n",
       "      <td>4.0</td>\n",
       "      <td>2250.0</td>\n",
       "      <td>B003</td>\n",
       "      <td>G</td>\n",
       "      <td>...</td>\n",
       "      <td>5.000000</td>\n",
       "      <td>0.000000</td>\n",
       "      <td>3668.495833</td>\n",
       "      <td>2250.000000</td>\n",
       "      <td>6218.750490</td>\n",
       "      <td>0.613330</td>\n",
       "      <td>1.000000</td>\n",
       "      <td>0.361809</td>\n",
       "      <td>0</td>\n",
       "      <td>33</td>\n",
       "    </tr>\n",
       "    <tr>\n",
       "      <th>3</th>\n",
       "      <td>APPF80273865537</td>\n",
       "      <td>Male</td>\n",
       "      <td>another</td>\n",
       "      <td>C</td>\n",
       "      <td>another</td>\n",
       "      <td>A</td>\n",
       "      <td>4.0</td>\n",
       "      <td>3500.0</td>\n",
       "      <td>B003</td>\n",
       "      <td>G</td>\n",
       "      <td>...</td>\n",
       "      <td>5.257143</td>\n",
       "      <td>0.000000</td>\n",
       "      <td>1525.000000</td>\n",
       "      <td>2700.000000</td>\n",
       "      <td>6218.750490</td>\n",
       "      <td>2.295082</td>\n",
       "      <td>1.296296</td>\n",
       "      <td>0.562814</td>\n",
       "      <td>0</td>\n",
       "      <td>27</td>\n",
       "    </tr>\n",
       "    <tr>\n",
       "      <th>4</th>\n",
       "      <td>APPG60994436641</td>\n",
       "      <td>Male</td>\n",
       "      <td>C10002</td>\n",
       "      <td>A</td>\n",
       "      <td>another</td>\n",
       "      <td>A</td>\n",
       "      <td>4.0</td>\n",
       "      <td>10000.0</td>\n",
       "      <td>B001</td>\n",
       "      <td>P</td>\n",
       "      <td>...</td>\n",
       "      <td>2.500000</td>\n",
       "      <td>0.000000</td>\n",
       "      <td>4465.358272</td>\n",
       "      <td>6644.750000</td>\n",
       "      <td>6218.750490</td>\n",
       "      <td>2.239462</td>\n",
       "      <td>1.504948</td>\n",
       "      <td>1.608040</td>\n",
       "      <td>0</td>\n",
       "      <td>31</td>\n",
       "    </tr>\n",
       "    <tr>\n",
       "      <th>...</th>\n",
       "      <td>...</td>\n",
       "      <td>...</td>\n",
       "      <td>...</td>\n",
       "      <td>...</td>\n",
       "      <td>...</td>\n",
       "      <td>...</td>\n",
       "      <td>...</td>\n",
       "      <td>...</td>\n",
       "      <td>...</td>\n",
       "      <td>...</td>\n",
       "      <td>...</td>\n",
       "      <td>...</td>\n",
       "      <td>...</td>\n",
       "      <td>...</td>\n",
       "      <td>...</td>\n",
       "      <td>...</td>\n",
       "      <td>...</td>\n",
       "      <td>...</td>\n",
       "      <td>...</td>\n",
       "      <td>...</td>\n",
       "      <td>...</td>\n",
       "    </tr>\n",
       "    <tr>\n",
       "      <th>69708</th>\n",
       "      <td>APPU90955789628</td>\n",
       "      <td>Female</td>\n",
       "      <td>C10006</td>\n",
       "      <td>A</td>\n",
       "      <td>COM0000010</td>\n",
       "      <td>A</td>\n",
       "      <td>1.0</td>\n",
       "      <td>4900.0</td>\n",
       "      <td>B002</td>\n",
       "      <td>P</td>\n",
       "      <td>...</td>\n",
       "      <td>0.000000</td>\n",
       "      <td>0.000000</td>\n",
       "      <td>4042.877278</td>\n",
       "      <td>5781.724828</td>\n",
       "      <td>4517.348356</td>\n",
       "      <td>1.212008</td>\n",
       "      <td>0.847498</td>\n",
       "      <td>1.084707</td>\n",
       "      <td>1</td>\n",
       "      <td>33</td>\n",
       "    </tr>\n",
       "    <tr>\n",
       "      <th>69709</th>\n",
       "      <td>APPV80989824738</td>\n",
       "      <td>Female</td>\n",
       "      <td>another</td>\n",
       "      <td>C</td>\n",
       "      <td>another</td>\n",
       "      <td>A</td>\n",
       "      <td>4.0</td>\n",
       "      <td>7190.1</td>\n",
       "      <td>B002</td>\n",
       "      <td>P</td>\n",
       "      <td>...</td>\n",
       "      <td>0.000000</td>\n",
       "      <td>0.000000</td>\n",
       "      <td>4886.480000</td>\n",
       "      <td>7190.100000</td>\n",
       "      <td>4517.348356</td>\n",
       "      <td>1.471427</td>\n",
       "      <td>1.000000</td>\n",
       "      <td>1.591664</td>\n",
       "      <td>1</td>\n",
       "      <td>45</td>\n",
       "    </tr>\n",
       "    <tr>\n",
       "      <th>69710</th>\n",
       "      <td>APPW50697209842</td>\n",
       "      <td>Female</td>\n",
       "      <td>C10022</td>\n",
       "      <td>B</td>\n",
       "      <td>another</td>\n",
       "      <td>C</td>\n",
       "      <td>4.0</td>\n",
       "      <td>1600.0</td>\n",
       "      <td>B030</td>\n",
       "      <td>P</td>\n",
       "      <td>...</td>\n",
       "      <td>3.750000</td>\n",
       "      <td>1.331250</td>\n",
       "      <td>3472.887186</td>\n",
       "      <td>1625.000000</td>\n",
       "      <td>4517.348356</td>\n",
       "      <td>0.460712</td>\n",
       "      <td>0.984615</td>\n",
       "      <td>0.354190</td>\n",
       "      <td>0</td>\n",
       "      <td>24</td>\n",
       "    </tr>\n",
       "    <tr>\n",
       "      <th>69711</th>\n",
       "      <td>APPY50870035036</td>\n",
       "      <td>Male</td>\n",
       "      <td>C10002</td>\n",
       "      <td>A</td>\n",
       "      <td>another</td>\n",
       "      <td>C</td>\n",
       "      <td>3.0</td>\n",
       "      <td>9893.0</td>\n",
       "      <td>B002</td>\n",
       "      <td>P</td>\n",
       "      <td>...</td>\n",
       "      <td>1.617305</td>\n",
       "      <td>0.000000</td>\n",
       "      <td>4465.358272</td>\n",
       "      <td>3265.884615</td>\n",
       "      <td>4517.348356</td>\n",
       "      <td>2.215500</td>\n",
       "      <td>3.029195</td>\n",
       "      <td>2.190002</td>\n",
       "      <td>0</td>\n",
       "      <td>38</td>\n",
       "    </tr>\n",
       "    <tr>\n",
       "      <th>69712</th>\n",
       "      <td>APPZ60733046119</td>\n",
       "      <td>Male</td>\n",
       "      <td>C10003</td>\n",
       "      <td>A</td>\n",
       "      <td>another</td>\n",
       "      <td>A</td>\n",
       "      <td>1.0</td>\n",
       "      <td>4230.0</td>\n",
       "      <td>no_info</td>\n",
       "      <td>no_info</td>\n",
       "      <td>...</td>\n",
       "      <td>4.078014</td>\n",
       "      <td>0.570514</td>\n",
       "      <td>4130.332287</td>\n",
       "      <td>4965.924390</td>\n",
       "      <td>4517.348356</td>\n",
       "      <td>1.024131</td>\n",
       "      <td>0.851805</td>\n",
       "      <td>0.936390</td>\n",
       "      <td>0</td>\n",
       "      <td>26</td>\n",
       "    </tr>\n",
       "  </tbody>\n",
       "</table>\n",
       "<p>69713 rows × 38 columns</p>\n",
       "</div>"
      ],
      "text/plain": [
       "                    ID  Gender City_Code City_Category Employer_Code  \\\n",
       "0      APPC90493171225  Female    C10001             A       another   \n",
       "1      APPD40611263344    Male    C10003             A    COM0000002   \n",
       "2      APPE70289249423    Male   another             C       another   \n",
       "3      APPF80273865537    Male   another             C       another   \n",
       "4      APPG60994436641    Male    C10002             A       another   \n",
       "...                ...     ...       ...           ...           ...   \n",
       "69708  APPU90955789628  Female    C10006             A    COM0000010   \n",
       "69709  APPV80989824738  Female   another             C       another   \n",
       "69710  APPW50697209842  Female    C10022             B       another   \n",
       "69711  APPY50870035036    Male    C10002             A       another   \n",
       "69712  APPZ60733046119    Male    C10003             A       another   \n",
       "\n",
       "      Employer_Category1  Employer_Category2  Monthly_Income  \\\n",
       "0                      A                 4.0          2000.0   \n",
       "1                      C                 1.0          3500.0   \n",
       "2                      C                 4.0          2250.0   \n",
       "3                      A                 4.0          3500.0   \n",
       "4                      A                 4.0         10000.0   \n",
       "...                  ...                 ...             ...   \n",
       "69708                  A                 1.0          4900.0   \n",
       "69709                  A                 4.0          7190.1   \n",
       "69710                  C                 4.0          1600.0   \n",
       "69711                  C                 3.0          9893.0   \n",
       "69712                  A                 1.0          4230.0   \n",
       "\n",
       "      Customer_Existing_Primary_Bank_Code Primary_Bank_Type  ...  \\\n",
       "0                                    B001                 P  ...   \n",
       "1                                    B002                 P  ...   \n",
       "2                                    B003                 G  ...   \n",
       "3                                    B003                 G  ...   \n",
       "4                                    B001                 P  ...   \n",
       "...                                   ...               ...  ...   \n",
       "69708                                B002                 P  ...   \n",
       "69709                                B002                 P  ...   \n",
       "69710                                B030                 P  ...   \n",
       "69711                                B002                 P  ...   \n",
       "69712                             no_info           no_info  ...   \n",
       "\n",
       "      Credit_over_income Credit_pct_over_income Monthly_Income_in_city  \\\n",
       "0               0.000000               0.000000           13461.737114   \n",
       "1               2.857143               0.378571            4130.332287   \n",
       "2               5.000000               0.000000            3668.495833   \n",
       "3               5.257143               0.000000            1525.000000   \n",
       "4               2.500000               0.000000            4465.358272   \n",
       "...                  ...                    ...                    ...   \n",
       "69708           0.000000               0.000000            4042.877278   \n",
       "69709           0.000000               0.000000            4886.480000   \n",
       "69710           3.750000               1.331250            3472.887186   \n",
       "69711           1.617305               0.000000            4465.358272   \n",
       "69712           4.078014               0.570514            4130.332287   \n",
       "\n",
       "       Monthly_Income_at_employer  Monthly_Income_in_source_category  \\\n",
       "0                     2000.000000                        4517.348356   \n",
       "1                     4789.257987                        4517.348356   \n",
       "2                     2250.000000                        6218.750490   \n",
       "3                     2700.000000                        6218.750490   \n",
       "4                     6644.750000                        6218.750490   \n",
       "...                           ...                                ...   \n",
       "69708                 5781.724828                        4517.348356   \n",
       "69709                 7190.100000                        4517.348356   \n",
       "69710                 1625.000000                        4517.348356   \n",
       "69711                 3265.884615                        4517.348356   \n",
       "69712                 4965.924390                        4517.348356   \n",
       "\n",
       "       Monthly_Income_over_city_income  Monthly_Income_over_employeer_income  \\\n",
       "0                             0.148569                              1.000000   \n",
       "1                             0.847389                              0.730802   \n",
       "2                             0.613330                              1.000000   \n",
       "3                             2.295082                              1.296296   \n",
       "4                             2.239462                              1.504948   \n",
       "...                                ...                                   ...   \n",
       "69708                         1.212008                              0.847498   \n",
       "69709                         1.471427                              1.000000   \n",
       "69710                         0.460712                              0.984615   \n",
       "69711                         2.215500                              3.029195   \n",
       "69712                         1.024131                              0.851805   \n",
       "\n",
       "       Monthly_Income_over_category_income  Loan_Amount_is_null  Age  \n",
       "0                                 0.442738                    1   36  \n",
       "1                                 0.774791                    0   29  \n",
       "2                                 0.361809                    0   33  \n",
       "3                                 0.562814                    0   27  \n",
       "4                                 1.608040                    0   31  \n",
       "...                                    ...                  ...  ...  \n",
       "69708                             1.084707                    1   33  \n",
       "69709                             1.591664                    1   45  \n",
       "69710                             0.354190                    0   24  \n",
       "69711                             2.190002                    0   38  \n",
       "69712                             0.936390                    0   26  \n",
       "\n",
       "[69713 rows x 38 columns]"
      ]
     },
     "execution_count": 3,
     "metadata": {},
     "output_type": "execute_result"
    }
   ],
   "source": [
    "train = pd.read_csv(path / 'train_imputed.csv')\n",
    "test = pd.read_csv(path / 'test_imputed.csv')\n",
    "train"
   ]
  },
  {
   "cell_type": "markdown",
   "metadata": {},
   "source": [
    "### 2.1 Используемые признаки при обучении"
   ]
  },
  {
   "cell_type": "code",
   "execution_count": 4,
   "metadata": {
    "execution": {
     "iopub.execute_input": "2023-02-14T22:09:50.004112Z",
     "iopub.status.busy": "2023-02-14T22:09:50.003330Z",
     "iopub.status.idle": "2023-02-14T22:09:50.061735Z",
     "shell.execute_reply": "2023-02-14T22:09:50.060834Z",
     "shell.execute_reply.started": "2023-02-14T22:09:50.004062Z"
    }
   },
   "outputs": [],
   "source": [
    "# используемые признаки при обучении\n",
    "features = [\n",
    "    c for c in train.columns if c != 'ID' and c != 'Approved'\n",
    "    and c != 'Monthly_Income_in_source_category'\n",
    "]\n",
    "# численные признаки\n",
    "num_features = train.select_dtypes(\n",
    "    include=[int, float]).nunique()[lambda x: x > 25].index\n",
    "# категориальные признаки\n",
    "cat_features = list(set(features) - set(num_features))\n",
    "# признаки, имеющие тяжелые хвосты распределения\n",
    "to_log = [\n",
    "    'Monthly_Income', 'Existing_EMI', 'Loan_Amount', 'EMI',\n",
    "    'Loan_Amount_per_Period', 'Credit_pct', 'Credit_pct_per_Period',\n",
    "    'Amount_plus_pct', 'Amount_plus_pct_per_period',\n",
    "    'Amount_plus_pct_over_amount', 'Credit_over_income',\n",
    "    'Monthly_Income_in_city', 'Monthly_Income_at_employer',\n",
    "    'Monthly_Income_over_city_income', 'Monthly_Income_over_employeer_income',\n",
    "    'Monthly_Income_over_category_income'\n",
    "]"
   ]
  },
  {
   "cell_type": "code",
   "execution_count": 5,
   "metadata": {
    "execution": {
     "iopub.execute_input": "2023-02-14T22:09:50.063184Z",
     "iopub.status.busy": "2023-02-14T22:09:50.062869Z",
     "iopub.status.idle": "2023-02-14T22:09:50.109953Z",
     "shell.execute_reply": "2023-02-14T22:09:50.108651Z",
     "shell.execute_reply.started": "2023-02-14T22:09:50.063155Z"
    }
   },
   "outputs": [],
   "source": [
    "# прологарифмируем выбранные признаки\n",
    "for col in to_log:\n",
    "    train[col] = np.log1p(train[col])\n",
    "    test[col] = np.log1p(test[col])"
   ]
  },
  {
   "cell_type": "markdown",
   "metadata": {},
   "source": [
    "### 2.2 Отложенная выборка"
   ]
  },
  {
   "cell_type": "code",
   "execution_count": 6,
   "metadata": {
    "execution": {
     "iopub.execute_input": "2023-02-14T22:09:50.111709Z",
     "iopub.status.busy": "2023-02-14T22:09:50.111351Z",
     "iopub.status.idle": "2023-02-14T22:09:50.203850Z",
     "shell.execute_reply": "2023-02-14T22:09:50.202665Z",
     "shell.execute_reply.started": "2023-02-14T22:09:50.111677Z"
    }
   },
   "outputs": [],
   "source": [
    "tr_data, te_data = train_test_split(train,\n",
    "                                    test_size=TEST_SIZE,\n",
    "                                    random_state=RANDOM_STATE,\n",
    "                                    stratify=train[TARGET_NAME])\n",
    "tr_data = tr_data.reset_index(drop=True)\n",
    "target = te_data[TARGET_NAME]"
   ]
  },
  {
   "cell_type": "markdown",
   "metadata": {},
   "source": [
    "## 3 Вспомогательные функции"
   ]
  },
  {
   "cell_type": "markdown",
   "metadata": {},
   "source": [
    "### 3.1 Функция для обучения модели и получения предсказания на тестовой выборке"
   ]
  },
  {
   "cell_type": "code",
   "execution_count": 7,
   "metadata": {
    "execution": {
     "iopub.execute_input": "2023-02-14T22:09:50.205529Z",
     "iopub.status.busy": "2023-02-14T22:09:50.205192Z",
     "iopub.status.idle": "2023-02-14T22:09:50.218447Z",
     "shell.execute_reply": "2023-02-14T22:09:50.217338Z",
     "shell.execute_reply.started": "2023-02-14T22:09:50.205498Z"
    }
   },
   "outputs": [],
   "source": [
    "def get_model_predictions(train, test, model, transfromer=None, verbose=True):\n",
    "    \"\"\"\n",
    "    Функция для обучения модели и получения предсказаний.\n",
    "    \n",
    "    Параметры\n",
    "    ----------\n",
    "    train - обучающая выборка\n",
    "    test - тестовая выборка\n",
    "    model - модель\n",
    "    transfromer - column_transformer для предобработки данных\n",
    "    verbose - нужно ли выводить результаты на каждом фолде\n",
    "    \n",
    "    Возвращает\n",
    "    -------\n",
    "    test_preds - предсказания на тестовой выборке\n",
    "    score_list - roc-auc на кросс-валидации для каждого фолда\n",
    "    \"\"\"\n",
    "    score_list = []\n",
    "    test_preds = np.zeros(len(test))\n",
    "    target = train.loc[:, TARGET_NAME].values\n",
    "\n",
    "    if transfromer:\n",
    "        train = transfromer.fit_transform(train[features])\n",
    "        test = transfromer.transform(test[features])\n",
    "    else:\n",
    "        train = train[features].values\n",
    "        test = test[features].values\n",
    "\n",
    "    kf = StratifiedKFold(n_splits=N_FOLDS,\n",
    "                         shuffle=True,\n",
    "                         random_state=RANDOM_STATE)\n",
    "    for fold, (train_index, val_index) in enumerate(kf.split(train, target)):\n",
    "        X_train = train[train_index]\n",
    "        X_val = train[val_index]\n",
    "        y_train = target[train_index]\n",
    "        y_val = target[val_index]\n",
    "\n",
    "        model.fit(X_train, y_train)\n",
    "        preds = model.predict_proba(X_val)[:, 1]\n",
    "        score = roc_auc_score(y_val, preds)\n",
    "        test_preds += model.predict_proba(test)[:, 1] / kf.n_splits\n",
    "\n",
    "        if verbose:\n",
    "            print(f\"FOLD: {fold}, ROC-AUC: {score:.5f}\")\n",
    "        score_list.append(score)\n",
    "\n",
    "    return test_preds, score_list"
   ]
  },
  {
   "cell_type": "markdown",
   "metadata": {},
   "source": [
    "### 3.2 Предобработка данных"
   ]
  },
  {
   "cell_type": "markdown",
   "metadata": {},
   "source": [
    "Для линейной регрессии кодируем категориальные признаки с помощью OneHotEncoder, числовые масштабируем с помощью StandardScaler"
   ]
  },
  {
   "cell_type": "code",
   "execution_count": 8,
   "metadata": {
    "execution": {
     "iopub.execute_input": "2023-02-14T22:09:50.220321Z",
     "iopub.status.busy": "2023-02-14T22:09:50.219872Z",
     "iopub.status.idle": "2023-02-14T22:09:50.230254Z",
     "shell.execute_reply": "2023-02-14T22:09:50.228970Z",
     "shell.execute_reply.started": "2023-02-14T22:09:50.220277Z"
    }
   },
   "outputs": [],
   "source": [
    "column_transformer_lr = ColumnTransformer([\n",
    "    ('ohe', OneHotEncoder(sparse=False,\n",
    "                          handle_unknown='ignore'), cat_features),\n",
    "    ('scaling', StandardScaler(), num_features),\n",
    "])"
   ]
  },
  {
   "cell_type": "markdown",
   "metadata": {},
   "source": [
    "Для случайного леса и градиентного бустинга кодируем категориальные переменные с помощью LabelEncoder\n"
   ]
  },
  {
   "cell_type": "code",
   "execution_count": 9,
   "metadata": {
    "execution": {
     "iopub.execute_input": "2023-02-14T22:09:50.232100Z",
     "iopub.status.busy": "2023-02-14T22:09:50.231657Z",
     "iopub.status.idle": "2023-02-14T22:09:50.241426Z",
     "shell.execute_reply": "2023-02-14T22:09:50.240414Z",
     "shell.execute_reply.started": "2023-02-14T22:09:50.232061Z"
    }
   },
   "outputs": [],
   "source": [
    "column_transformer_rf = ColumnTransformer([\n",
    "    ('le', OrdinalEncoder(handle_unknown='use_encoded_value',\n",
    "                          unknown_value=-1), cat_features),\n",
    "    ('pass', 'passthrough', num_features)\n",
    "])"
   ]
  },
  {
   "cell_type": "markdown",
   "metadata": {},
   "source": [
    "## 4 Логистическая регрессия"
   ]
  },
  {
   "cell_type": "code",
   "execution_count": 10,
   "metadata": {
    "execution": {
     "iopub.execute_input": "2023-02-14T22:09:50.244954Z",
     "iopub.status.busy": "2023-02-14T22:09:50.244539Z",
     "iopub.status.idle": "2023-02-14T22:10:21.626570Z",
     "shell.execute_reply": "2023-02-14T22:10:21.624959Z",
     "shell.execute_reply.started": "2023-02-14T22:09:50.244896Z"
    }
   },
   "outputs": [
    {
     "name": "stdout",
     "output_type": "stream",
     "text": [
      "FOLD: 0, ROC-AUC: 0.83983\n",
      "FOLD: 1, ROC-AUC: 0.84197\n",
      "FOLD: 2, ROC-AUC: 0.83537\n",
      "FOLD: 3, ROC-AUC: 0.86483\n",
      "FOLD: 4, ROC-AUC: 0.84234\n",
      "\u001b[32m\u001b[1m\n",
      "ROC-AUC на кросс-валидации: 0.84487 +- 0.01028\n",
      "\u001b[31mROC-AUC на отложенной выборке: 0.82501\u001b[0m\n"
     ]
    }
   ],
   "source": [
    "holdout_pred_lr, oof_score = get_model_predictions(\n",
    "    tr_data,\n",
    "    te_data,\n",
    "    LogisticRegression(max_iter=5000),\n",
    "    transfromer=column_transformer_lr)\n",
    "score_lr = np.round(roc_auc_score(target, holdout_pred_lr), 5)\n",
    "print(f\"{Fore.GREEN}{Style.BRIGHT}\\nROC-AUC на кросс-валидации: {np.mean(oof_score):.5f} +- {np.std(oof_score):.5f}\")\n",
    "print(f\"{Fore.RED}ROC-AUC на отложенной выборке: {score_lr}{Style.RESET_ALL}\")"
   ]
  },
  {
   "cell_type": "markdown",
   "metadata": {},
   "source": [
    "## 5 Случайный лес"
   ]
  },
  {
   "cell_type": "code",
   "execution_count": 11,
   "metadata": {
    "execution": {
     "iopub.execute_input": "2023-02-14T22:10:21.629540Z",
     "iopub.status.busy": "2023-02-14T22:10:21.628666Z",
     "iopub.status.idle": "2023-02-14T22:11:19.058063Z",
     "shell.execute_reply": "2023-02-14T22:11:19.056955Z",
     "shell.execute_reply.started": "2023-02-14T22:10:21.629480Z"
    }
   },
   "outputs": [
    {
     "name": "stdout",
     "output_type": "stream",
     "text": [
      "FOLD: 0, ROC-AUC: 0.83528\n",
      "FOLD: 1, ROC-AUC: 0.84343\n",
      "FOLD: 2, ROC-AUC: 0.83879\n",
      "FOLD: 3, ROC-AUC: 0.86138\n",
      "FOLD: 4, ROC-AUC: 0.84438\n",
      "\u001b[32m\u001b[1m\n",
      "ROC-AUC на кросс-валидации: 0.84465 +- 0.00898\n",
      "\u001b[31mROC-AUC на отложенной выборке: 0.82819\u001b[0m\n"
     ]
    }
   ],
   "source": [
    "holdout_pred_rf, oof_score = get_model_predictions(\n",
    "    tr_data,\n",
    "    te_data,\n",
    "    RandomForestClassifier(n_estimators=500,\n",
    "                           max_depth=10,\n",
    "                           class_weight={1: 10},\n",
    "                           random_state=RANDOM_STATE,\n",
    "                           n_jobs=-1),\n",
    "    transfromer=column_transformer_rf)\n",
    "score_rf = np.round(roc_auc_score(target, holdout_pred_rf), 5)\n",
    "print(f\"{Fore.GREEN}{Style.BRIGHT}\\nROC-AUC на кросс-валидации: {np.mean(oof_score):.5f} +- {np.std(oof_score):.5f}\")\n",
    "print(f\"{Fore.RED}ROC-AUC на отложенной выборке: {score_rf}{Style.RESET_ALL}\")"
   ]
  },
  {
   "cell_type": "markdown",
   "metadata": {},
   "source": [
    "## 6 Градиентный бустинг"
   ]
  },
  {
   "cell_type": "code",
   "execution_count": 12,
   "metadata": {
    "execution": {
     "iopub.execute_input": "2023-02-14T22:11:19.060036Z",
     "iopub.status.busy": "2023-02-14T22:11:19.059568Z",
     "iopub.status.idle": "2023-02-14T22:13:25.362839Z",
     "shell.execute_reply": "2023-02-14T22:13:25.361663Z",
     "shell.execute_reply.started": "2023-02-14T22:11:19.059991Z"
    }
   },
   "outputs": [
    {
     "name": "stdout",
     "output_type": "stream",
     "text": [
      "FOLD: 0, ROC-AUC: 0.84355\n",
      "FOLD: 1, ROC-AUC: 0.84185\n",
      "FOLD: 2, ROC-AUC: 0.83498\n",
      "FOLD: 3, ROC-AUC: 0.85467\n",
      "FOLD: 4, ROC-AUC: 0.84903\n",
      "\u001b[32m\u001b[1m\n",
      "ROC-AUC на кросс-валидации: 0.84481 +- 0.00667\n",
      "\u001b[31mROC-AUC на отложенной выборке: 0.82575\u001b[0m\n"
     ]
    }
   ],
   "source": [
    "holdout_pred_gb, oof_score = get_model_predictions(\n",
    "    tr_data,\n",
    "    te_data,\n",
    "    GradientBoostingClassifier(n_estimators=100,\n",
    "                               max_depth=5,\n",
    "                               learning_rate=0.05,\n",
    "                               random_state=RANDOM_STATE),\n",
    "    transfromer=column_transformer_rf)\n",
    "score_gb = np.round(roc_auc_score(target, holdout_pred_gb), 5)\n",
    "print(f\"{Fore.GREEN}{Style.BRIGHT}\\nROC-AUC на кросс-валидации: {np.mean(oof_score):.5f} +- {np.std(oof_score):.5f}\")\n",
    "print(f\"{Fore.RED}ROC-AUC на отложенной выборке: {score_gb}{Style.RESET_ALL}\")"
   ]
  },
  {
   "cell_type": "markdown",
   "metadata": {},
   "source": [
    "## 7 Результаты"
   ]
  },
  {
   "cell_type": "code",
   "execution_count": 13,
   "metadata": {
    "execution": {
     "iopub.execute_input": "2023-02-14T22:13:25.364386Z",
     "iopub.status.busy": "2023-02-14T22:13:25.364086Z",
     "iopub.status.idle": "2023-02-14T22:13:25.378715Z",
     "shell.execute_reply": "2023-02-14T22:13:25.377619Z",
     "shell.execute_reply.started": "2023-02-14T22:13:25.364358Z"
    }
   },
   "outputs": [],
   "source": [
    "fpr_lr, tpr_lr, _ = roc_curve(target, holdout_pred_lr)\n",
    "fpr_rf, tpr_rf, _ = roc_curve(target, holdout_pred_rf)\n",
    "fpr_gb, tpr_gb, _ = roc_curve(target, holdout_pred_gb)"
   ]
  },
  {
   "cell_type": "code",
   "execution_count": 14,
   "metadata": {
    "execution": {
     "iopub.execute_input": "2023-02-14T22:13:25.380115Z",
     "iopub.status.busy": "2023-02-14T22:13:25.379785Z",
     "iopub.status.idle": "2023-02-14T22:13:25.716442Z",
     "shell.execute_reply": "2023-02-14T22:13:25.714991Z",
     "shell.execute_reply.started": "2023-02-14T22:13:25.380086Z"
    }
   },
   "outputs": [
    {
     "data": {
      "image/png": "[encoded data removed]",
      "text/plain": [
       "<Figure size 1152x720 with 1 Axes>"
      ]
     },
     "metadata": {
      "needs_background": "light"
     },
     "output_type": "display_data"
    }
   ],
   "source": [
    "plt.figure(figsize=(16, 10))\n",
    "plt.plot(fpr_lr, tpr_lr, label=f\"Логистическая регрессия: AUC-ROC: {score_lr}\")\n",
    "plt.plot(\n",
    "    fpr_rf,\n",
    "    tpr_rf,\n",
    "    label=\n",
    "    f\"Случайный лес: AUC-ROC: {np.round(roc_auc_score(te_data[TARGET_NAME],holdout_pred_rf),5)}\"\n",
    ")\n",
    "plt.plot(\n",
    "    fpr_gb,\n",
    "    tpr_gb,\n",
    "    label=\n",
    "    f\"Градиентный бустинг: AUC-ROC: {np.round(roc_auc_score(te_data[TARGET_NAME],holdout_pred_gb),5)}\"\n",
    ")\n",
    "plt.plot([0, 1], [0, 1],\n",
    "         label=f\"Случайные предсказания\",\n",
    "         color='black',\n",
    "         linestyle='--')\n",
    "\n",
    "plt.xlabel('False Positive Rate')\n",
    "plt.ylabel('True Positive Rate')\n",
    "plt.title('Результаты моделей')\n",
    "plt.legend()\n",
    "plt.show()"
   ]
  }
 ],
 "metadata": {
  "kernelspec": {
   "display_name": "Python 3 (ipykernel)",
   "language": "python",
   "name": "python3"
  },
  "language_info": {
   "codemirror_mode": {
    "name": "ipython",
    "version": 3
   },
   "file_extension": ".py",
   "mimetype": "text/x-python",
   "name": "python",
   "nbconvert_exporter": "python",
   "pygments_lexer": "ipython3",
   "version": "3.9.7"
  },
  "varInspector": {
   "cols": {
    "lenName": 16,
    "lenType": 16,
    "lenVar": 40
   },
   "kernels_config": {
    "python": {
     "delete_cmd_postfix": "",
     "delete_cmd_prefix": "del ",
     "library": "var_list.py",
     "varRefreshCmd": "print(var_dic_list())"
    },
    "r": {
     "delete_cmd_postfix": ") ",
     "delete_cmd_prefix": "rm(",
     "library": "var_list.r",
     "varRefreshCmd": "cat(var_dic_list()) "
    }
   },
   "types_to_exclude": [
    "module",
    "function",
    "builtin_function_or_method",
    "instance",
    "_Feature"
   ],
   "window_display": false
  }
 },
 "nbformat": 4,
 "nbformat_minor": 4
}

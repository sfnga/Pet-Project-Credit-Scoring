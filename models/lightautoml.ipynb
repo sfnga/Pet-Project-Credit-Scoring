{
 "cells": [
  {
   "cell_type": "markdown",
   "metadata": {},
   "source": [
    "# LAMA"
   ]
  },
  {
   "cell_type": "markdown",
   "metadata": {},
   "source": [
    "## 1 Установка и импорт библиотек, инициализация глобальных констант"
   ]
  },
  {
   "cell_type": "markdown",
   "metadata": {},
   "source": [
    "### 1.1 Установка библиотек"
   ]
  },
  {
   "cell_type": "code",
   "execution_count": 1,
   "metadata": {
    "execution": {
     "iopub.execute_input": "2023-02-07T16:00:11.526413Z",
     "iopub.status.busy": "2023-02-07T16:00:11.525823Z",
     "iopub.status.idle": "2023-02-07T16:02:57.636016Z",
     "shell.execute_reply": "2023-02-07T16:02:57.632989Z",
     "shell.execute_reply.started": "2023-02-07T16:00:11.526287Z"
    }
   },
   "outputs": [],
   "source": [
    "%%capture\n",
    "!pip install lightautoml\n",
    "!pip install -U pandas"
   ]
  },
  {
   "cell_type": "markdown",
   "metadata": {},
   "source": [
    "### 1.2 Импорт библиотек"
   ]
  },
  {
   "cell_type": "code",
   "execution_count": 2,
   "metadata": {
    "execution": {
     "iopub.execute_input": "2023-02-07T16:02:57.643165Z",
     "iopub.status.busy": "2023-02-07T16:02:57.641321Z",
     "iopub.status.idle": "2023-02-07T16:03:01.866173Z",
     "shell.execute_reply": "2023-02-07T16:03:01.864709Z",
     "shell.execute_reply.started": "2023-02-07T16:02:57.643056Z"
    }
   },
   "outputs": [
    {
     "data": {
      "text/html": [
       "<style type='text/css'>\n",
       ".datatable table.frame { margin-bottom: 0; }\n",
       ".datatable table.frame thead { border-bottom: none; }\n",
       ".datatable table.frame tr.coltypes td {  color: #FFFFFF;  line-height: 6px;  padding: 0 0.5em;}\n",
       ".datatable .bool    { background: #DDDD99; }\n",
       ".datatable .object  { background: #565656; }\n",
       ".datatable .int     { background: #5D9E5D; }\n",
       ".datatable .float   { background: #4040CC; }\n",
       ".datatable .str     { background: #CC4040; }\n",
       ".datatable .time    { background: #40CC40; }\n",
       ".datatable .row_index {  background: var(--jp-border-color3);  border-right: 1px solid var(--jp-border-color0);  color: var(--jp-ui-font-color3);  font-size: 9px;}\n",
       ".datatable .frame tbody td { text-align: left; }\n",
       ".datatable .frame tr.coltypes .row_index {  background: var(--jp-border-color0);}\n",
       ".datatable th:nth-child(2) { padding-left: 12px; }\n",
       ".datatable .hellipsis {  color: var(--jp-cell-editor-border-color);}\n",
       ".datatable .vellipsis {  background: var(--jp-layout-color0);  color: var(--jp-cell-editor-border-color);}\n",
       ".datatable .na {  color: var(--jp-cell-editor-border-color);  font-size: 80%;}\n",
       ".datatable .sp {  opacity: 0.25;}\n",
       ".datatable .footer { font-size: 9px; }\n",
       ".datatable .frame_dimensions {  background: var(--jp-border-color3);  border-top: 1px solid var(--jp-border-color0);  color: var(--jp-ui-font-color3);  display: inline-block;  opacity: 0.6;  padding: 1px 10px 1px 5px;}\n",
       "</style>\n"
      ],
      "text/plain": [
       "<IPython.core.display.HTML object>"
      ]
     },
     "metadata": {},
     "output_type": "display_data"
    }
   ],
   "source": [
    "from pathlib import Path\n",
    "\n",
    "import numpy as np\n",
    "import pandas as pd\n",
    "import seaborn as sns\n",
    "from matplotlib import pyplot as plt\n",
    "from sklearn.metrics import roc_auc_score\n",
    "from sklearn.model_selection import train_test_split\n",
    "import torch\n",
    "\n",
    "from lightautoml.automl.presets.tabular_presets import TabularAutoML\n",
    "from lightautoml.tasks import Task\n",
    "\n",
    "pd.set_option('display.max_columns', 50)"
   ]
  },
  {
   "cell_type": "markdown",
   "metadata": {},
   "source": [
    "### 1.3 Инициализация глобальных констант"
   ]
  },
  {
   "cell_type": "code",
   "execution_count": 3,
   "metadata": {
    "execution": {
     "iopub.execute_input": "2023-02-07T16:03:01.868255Z",
     "iopub.status.busy": "2023-02-07T16:03:01.867821Z",
     "iopub.status.idle": "2023-02-07T16:03:01.877539Z",
     "shell.execute_reply": "2023-02-07T16:03:01.876296Z",
     "shell.execute_reply.started": "2023-02-07T16:03:01.868217Z"
    }
   },
   "outputs": [],
   "source": [
    "# путь к папке с данными\n",
    "path = Path('/kaggle/input/mckinsey-preprocessed')\n",
    "# количество потоков\n",
    "N_THREADS = 4\n",
    "# количество фолдов для кросс-валидации\n",
    "N_FOLDS = 5\n",
    "# random state для воспроизводимости\n",
    "RANDOM_STATE = 42\n",
    "# размер отложенной выборки\n",
    "TEST_SIZE = 0.2\n",
    "# максимальное время обучения модели\n",
    "TIMEOUT = 3600\n",
    "# название целевой переменной\n",
    "TARGET_NAME = 'Approved'"
   ]
  },
  {
   "cell_type": "code",
   "execution_count": 4,
   "metadata": {
    "execution": {
     "iopub.execute_input": "2023-02-07T16:03:01.881182Z",
     "iopub.status.busy": "2023-02-07T16:03:01.880354Z",
     "iopub.status.idle": "2023-02-07T16:03:02.388021Z",
     "shell.execute_reply": "2023-02-07T16:03:02.386695Z",
     "shell.execute_reply.started": "2023-02-07T16:03:01.881134Z"
    }
   },
   "outputs": [],
   "source": [
    "np.random.seed(RANDOM_STATE)\n",
    "torch.set_num_threads(N_THREADS)"
   ]
  },
  {
   "cell_type": "markdown",
   "metadata": {},
   "source": [
    "## 2 Подготовка данных"
   ]
  },
  {
   "cell_type": "code",
   "execution_count": 5,
   "metadata": {
    "execution": {
     "iopub.execute_input": "2023-02-07T16:03:02.394033Z",
     "iopub.status.busy": "2023-02-07T16:03:02.393529Z",
     "iopub.status.idle": "2023-02-07T16:03:03.756199Z",
     "shell.execute_reply": "2023-02-07T16:03:03.755200Z",
     "shell.execute_reply.started": "2023-02-07T16:03:02.393990Z"
    }
   },
   "outputs": [
    {
     "data": {
      "text/html": [
       "<div>\n",
       "<style scoped>\n",
       "    .dataframe tbody tr th:only-of-type {\n",
       "        vertical-align: middle;\n",
       "    }\n",
       "\n",
       "    .dataframe tbody tr th {\n",
       "        vertical-align: top;\n",
       "    }\n",
       "\n",
       "    .dataframe thead th {\n",
       "        text-align: right;\n",
       "    }\n",
       "</style>\n",
       "<table border=\"1\" class=\"dataframe\">\n",
       "  <thead>\n",
       "    <tr style=\"text-align: right;\">\n",
       "      <th></th>\n",
       "      <th>ID</th>\n",
       "      <th>Gender</th>\n",
       "      <th>City_Code</th>\n",
       "      <th>City_Category</th>\n",
       "      <th>Employer_Code</th>\n",
       "      <th>Employer_Category1</th>\n",
       "      <th>Employer_Category2</th>\n",
       "      <th>Monthly_Income</th>\n",
       "      <th>Customer_Existing_Primary_Bank_Code</th>\n",
       "      <th>Primary_Bank_Type</th>\n",
       "      <th>Contacted</th>\n",
       "      <th>Source</th>\n",
       "      <th>Source_Category</th>\n",
       "      <th>Existing_EMI</th>\n",
       "      <th>Loan_Amount</th>\n",
       "      <th>Loan_Period</th>\n",
       "      <th>Interest_Rate</th>\n",
       "      <th>EMI</th>\n",
       "      <th>Var1</th>\n",
       "      <th>Approved</th>\n",
       "      <th>Loan_Amount_per_Period</th>\n",
       "      <th>Credit_pct</th>\n",
       "      <th>Credit_pct_per_Period</th>\n",
       "      <th>Amount_over_pct</th>\n",
       "      <th>Amount_plus_pct</th>\n",
       "      <th>Amount_plus_pct_per_period</th>\n",
       "      <th>Amount_plus_pct_over_amount</th>\n",
       "      <th>Amount_pct_per_period</th>\n",
       "      <th>Credit_over_income</th>\n",
       "      <th>Credit_pct_over_income</th>\n",
       "      <th>Monthly_Income_in_city</th>\n",
       "      <th>Monthly_Income_at_employer</th>\n",
       "      <th>Monthly_Income_in_source_category</th>\n",
       "      <th>Monthly_Income_over_city_income</th>\n",
       "      <th>Monthly_Income_over_employeer_income</th>\n",
       "      <th>Monthly_Income_over_category_income</th>\n",
       "      <th>Age</th>\n",
       "    </tr>\n",
       "  </thead>\n",
       "  <tbody>\n",
       "    <tr>\n",
       "      <th>0</th>\n",
       "      <td>APPC90493171225</td>\n",
       "      <td>Female</td>\n",
       "      <td>C10001</td>\n",
       "      <td>A</td>\n",
       "      <td>another</td>\n",
       "      <td>A</td>\n",
       "      <td>4.0</td>\n",
       "      <td>2000.0</td>\n",
       "      <td>B001</td>\n",
       "      <td>P</td>\n",
       "      <td>N</td>\n",
       "      <td>S122</td>\n",
       "      <td>G</td>\n",
       "      <td>0.0</td>\n",
       "      <td>NaN</td>\n",
       "      <td>NaN</td>\n",
       "      <td>NaN</td>\n",
       "      <td>NaN</td>\n",
       "      <td>0</td>\n",
       "      <td>0</td>\n",
       "      <td>NaN</td>\n",
       "      <td>NaN</td>\n",
       "      <td>NaN</td>\n",
       "      <td>NaN</td>\n",
       "      <td>NaN</td>\n",
       "      <td>NaN</td>\n",
       "      <td>NaN</td>\n",
       "      <td>NaN</td>\n",
       "      <td>NaN</td>\n",
       "      <td>NaN</td>\n",
       "      <td>13461.737114</td>\n",
       "      <td>2000.000000</td>\n",
       "      <td>4517.348356</td>\n",
       "      <td>0.148569</td>\n",
       "      <td>1.000000</td>\n",
       "      <td>0.442738</td>\n",
       "      <td>36</td>\n",
       "    </tr>\n",
       "    <tr>\n",
       "      <th>1</th>\n",
       "      <td>APPD40611263344</td>\n",
       "      <td>Male</td>\n",
       "      <td>C10003</td>\n",
       "      <td>A</td>\n",
       "      <td>COM0000002</td>\n",
       "      <td>C</td>\n",
       "      <td>1.0</td>\n",
       "      <td>3500.0</td>\n",
       "      <td>B002</td>\n",
       "      <td>P</td>\n",
       "      <td>Y</td>\n",
       "      <td>S122</td>\n",
       "      <td>G</td>\n",
       "      <td>0.0</td>\n",
       "      <td>20000.0</td>\n",
       "      <td>2.0</td>\n",
       "      <td>13.25</td>\n",
       "      <td>953.0</td>\n",
       "      <td>10</td>\n",
       "      <td>0</td>\n",
       "      <td>10000.0</td>\n",
       "      <td>2650.0</td>\n",
       "      <td>1325.000</td>\n",
       "      <td>7.547170</td>\n",
       "      <td>22650.0</td>\n",
       "      <td>11325.000</td>\n",
       "      <td>1.1325</td>\n",
       "      <td>0.566250</td>\n",
       "      <td>2.857143</td>\n",
       "      <td>0.378571</td>\n",
       "      <td>4130.332287</td>\n",
       "      <td>4789.257987</td>\n",
       "      <td>4517.348356</td>\n",
       "      <td>0.847389</td>\n",
       "      <td>0.730802</td>\n",
       "      <td>0.774791</td>\n",
       "      <td>29</td>\n",
       "    </tr>\n",
       "    <tr>\n",
       "      <th>2</th>\n",
       "      <td>APPE70289249423</td>\n",
       "      <td>Male</td>\n",
       "      <td>another</td>\n",
       "      <td>C</td>\n",
       "      <td>another</td>\n",
       "      <td>C</td>\n",
       "      <td>4.0</td>\n",
       "      <td>2250.0</td>\n",
       "      <td>B003</td>\n",
       "      <td>G</td>\n",
       "      <td>Y</td>\n",
       "      <td>S143</td>\n",
       "      <td>B</td>\n",
       "      <td>0.0</td>\n",
       "      <td>45000.0</td>\n",
       "      <td>4.0</td>\n",
       "      <td>NaN</td>\n",
       "      <td>NaN</td>\n",
       "      <td>0</td>\n",
       "      <td>0</td>\n",
       "      <td>11250.0</td>\n",
       "      <td>NaN</td>\n",
       "      <td>NaN</td>\n",
       "      <td>NaN</td>\n",
       "      <td>NaN</td>\n",
       "      <td>NaN</td>\n",
       "      <td>NaN</td>\n",
       "      <td>NaN</td>\n",
       "      <td>5.000000</td>\n",
       "      <td>NaN</td>\n",
       "      <td>3668.495833</td>\n",
       "      <td>2250.000000</td>\n",
       "      <td>6218.750490</td>\n",
       "      <td>0.613330</td>\n",
       "      <td>1.000000</td>\n",
       "      <td>0.361809</td>\n",
       "      <td>33</td>\n",
       "    </tr>\n",
       "    <tr>\n",
       "      <th>3</th>\n",
       "      <td>APPF80273865537</td>\n",
       "      <td>Male</td>\n",
       "      <td>another</td>\n",
       "      <td>C</td>\n",
       "      <td>another</td>\n",
       "      <td>A</td>\n",
       "      <td>4.0</td>\n",
       "      <td>3500.0</td>\n",
       "      <td>B003</td>\n",
       "      <td>G</td>\n",
       "      <td>Y</td>\n",
       "      <td>S143</td>\n",
       "      <td>B</td>\n",
       "      <td>0.0</td>\n",
       "      <td>92000.0</td>\n",
       "      <td>5.0</td>\n",
       "      <td>NaN</td>\n",
       "      <td>NaN</td>\n",
       "      <td>7</td>\n",
       "      <td>0</td>\n",
       "      <td>18400.0</td>\n",
       "      <td>NaN</td>\n",
       "      <td>NaN</td>\n",
       "      <td>NaN</td>\n",
       "      <td>NaN</td>\n",
       "      <td>NaN</td>\n",
       "      <td>NaN</td>\n",
       "      <td>NaN</td>\n",
       "      <td>5.257143</td>\n",
       "      <td>NaN</td>\n",
       "      <td>1525.000000</td>\n",
       "      <td>2700.000000</td>\n",
       "      <td>6218.750490</td>\n",
       "      <td>2.295082</td>\n",
       "      <td>1.296296</td>\n",
       "      <td>0.562814</td>\n",
       "      <td>27</td>\n",
       "    </tr>\n",
       "    <tr>\n",
       "      <th>4</th>\n",
       "      <td>APPG60994436641</td>\n",
       "      <td>Male</td>\n",
       "      <td>C10002</td>\n",
       "      <td>A</td>\n",
       "      <td>another</td>\n",
       "      <td>A</td>\n",
       "      <td>4.0</td>\n",
       "      <td>10000.0</td>\n",
       "      <td>B001</td>\n",
       "      <td>P</td>\n",
       "      <td>Y</td>\n",
       "      <td>S134</td>\n",
       "      <td>B</td>\n",
       "      <td>2500.0</td>\n",
       "      <td>50000.0</td>\n",
       "      <td>2.0</td>\n",
       "      <td>NaN</td>\n",
       "      <td>NaN</td>\n",
       "      <td>10</td>\n",
       "      <td>0</td>\n",
       "      <td>25000.0</td>\n",
       "      <td>NaN</td>\n",
       "      <td>NaN</td>\n",
       "      <td>NaN</td>\n",
       "      <td>NaN</td>\n",
       "      <td>NaN</td>\n",
       "      <td>NaN</td>\n",
       "      <td>NaN</td>\n",
       "      <td>2.500000</td>\n",
       "      <td>NaN</td>\n",
       "      <td>4465.358272</td>\n",
       "      <td>6644.750000</td>\n",
       "      <td>6218.750490</td>\n",
       "      <td>2.239462</td>\n",
       "      <td>1.504948</td>\n",
       "      <td>1.608040</td>\n",
       "      <td>31</td>\n",
       "    </tr>\n",
       "    <tr>\n",
       "      <th>...</th>\n",
       "      <td>...</td>\n",
       "      <td>...</td>\n",
       "      <td>...</td>\n",
       "      <td>...</td>\n",
       "      <td>...</td>\n",
       "      <td>...</td>\n",
       "      <td>...</td>\n",
       "      <td>...</td>\n",
       "      <td>...</td>\n",
       "      <td>...</td>\n",
       "      <td>...</td>\n",
       "      <td>...</td>\n",
       "      <td>...</td>\n",
       "      <td>...</td>\n",
       "      <td>...</td>\n",
       "      <td>...</td>\n",
       "      <td>...</td>\n",
       "      <td>...</td>\n",
       "      <td>...</td>\n",
       "      <td>...</td>\n",
       "      <td>...</td>\n",
       "      <td>...</td>\n",
       "      <td>...</td>\n",
       "      <td>...</td>\n",
       "      <td>...</td>\n",
       "      <td>...</td>\n",
       "      <td>...</td>\n",
       "      <td>...</td>\n",
       "      <td>...</td>\n",
       "      <td>...</td>\n",
       "      <td>...</td>\n",
       "      <td>...</td>\n",
       "      <td>...</td>\n",
       "      <td>...</td>\n",
       "      <td>...</td>\n",
       "      <td>...</td>\n",
       "      <td>...</td>\n",
       "    </tr>\n",
       "    <tr>\n",
       "      <th>69708</th>\n",
       "      <td>APPU90955789628</td>\n",
       "      <td>Female</td>\n",
       "      <td>C10006</td>\n",
       "      <td>A</td>\n",
       "      <td>COM0000010</td>\n",
       "      <td>A</td>\n",
       "      <td>1.0</td>\n",
       "      <td>4900.0</td>\n",
       "      <td>B002</td>\n",
       "      <td>P</td>\n",
       "      <td>N</td>\n",
       "      <td>S122</td>\n",
       "      <td>G</td>\n",
       "      <td>0.0</td>\n",
       "      <td>NaN</td>\n",
       "      <td>NaN</td>\n",
       "      <td>NaN</td>\n",
       "      <td>NaN</td>\n",
       "      <td>10</td>\n",
       "      <td>0</td>\n",
       "      <td>NaN</td>\n",
       "      <td>NaN</td>\n",
       "      <td>NaN</td>\n",
       "      <td>NaN</td>\n",
       "      <td>NaN</td>\n",
       "      <td>NaN</td>\n",
       "      <td>NaN</td>\n",
       "      <td>NaN</td>\n",
       "      <td>NaN</td>\n",
       "      <td>NaN</td>\n",
       "      <td>4042.877278</td>\n",
       "      <td>5781.724828</td>\n",
       "      <td>4517.348356</td>\n",
       "      <td>1.212008</td>\n",
       "      <td>0.847498</td>\n",
       "      <td>1.084707</td>\n",
       "      <td>33</td>\n",
       "    </tr>\n",
       "    <tr>\n",
       "      <th>69709</th>\n",
       "      <td>APPV80989824738</td>\n",
       "      <td>Female</td>\n",
       "      <td>another</td>\n",
       "      <td>C</td>\n",
       "      <td>another</td>\n",
       "      <td>A</td>\n",
       "      <td>4.0</td>\n",
       "      <td>7190.1</td>\n",
       "      <td>B002</td>\n",
       "      <td>P</td>\n",
       "      <td>N</td>\n",
       "      <td>S122</td>\n",
       "      <td>G</td>\n",
       "      <td>1450.0</td>\n",
       "      <td>NaN</td>\n",
       "      <td>NaN</td>\n",
       "      <td>NaN</td>\n",
       "      <td>NaN</td>\n",
       "      <td>7</td>\n",
       "      <td>0</td>\n",
       "      <td>NaN</td>\n",
       "      <td>NaN</td>\n",
       "      <td>NaN</td>\n",
       "      <td>NaN</td>\n",
       "      <td>NaN</td>\n",
       "      <td>NaN</td>\n",
       "      <td>NaN</td>\n",
       "      <td>NaN</td>\n",
       "      <td>NaN</td>\n",
       "      <td>NaN</td>\n",
       "      <td>4886.480000</td>\n",
       "      <td>7190.100000</td>\n",
       "      <td>4517.348356</td>\n",
       "      <td>1.471427</td>\n",
       "      <td>1.000000</td>\n",
       "      <td>1.591664</td>\n",
       "      <td>45</td>\n",
       "    </tr>\n",
       "    <tr>\n",
       "      <th>69710</th>\n",
       "      <td>APPW50697209842</td>\n",
       "      <td>Female</td>\n",
       "      <td>C10022</td>\n",
       "      <td>B</td>\n",
       "      <td>another</td>\n",
       "      <td>C</td>\n",
       "      <td>4.0</td>\n",
       "      <td>1600.0</td>\n",
       "      <td>B030</td>\n",
       "      <td>P</td>\n",
       "      <td>Y</td>\n",
       "      <td>S122</td>\n",
       "      <td>G</td>\n",
       "      <td>0.0</td>\n",
       "      <td>24000.0</td>\n",
       "      <td>4.0</td>\n",
       "      <td>35.50</td>\n",
       "      <td>943.0</td>\n",
       "      <td>2</td>\n",
       "      <td>0</td>\n",
       "      <td>6000.0</td>\n",
       "      <td>8520.0</td>\n",
       "      <td>2130.000</td>\n",
       "      <td>2.816901</td>\n",
       "      <td>32520.0</td>\n",
       "      <td>8130.000</td>\n",
       "      <td>1.3550</td>\n",
       "      <td>0.338750</td>\n",
       "      <td>3.750000</td>\n",
       "      <td>1.331250</td>\n",
       "      <td>3472.887186</td>\n",
       "      <td>1625.000000</td>\n",
       "      <td>4517.348356</td>\n",
       "      <td>0.460712</td>\n",
       "      <td>0.984615</td>\n",
       "      <td>0.354190</td>\n",
       "      <td>24</td>\n",
       "    </tr>\n",
       "    <tr>\n",
       "      <th>69711</th>\n",
       "      <td>APPY50870035036</td>\n",
       "      <td>Male</td>\n",
       "      <td>C10002</td>\n",
       "      <td>A</td>\n",
       "      <td>another</td>\n",
       "      <td>C</td>\n",
       "      <td>3.0</td>\n",
       "      <td>9893.0</td>\n",
       "      <td>B002</td>\n",
       "      <td>P</td>\n",
       "      <td>Y</td>\n",
       "      <td>S122</td>\n",
       "      <td>G</td>\n",
       "      <td>1366.0</td>\n",
       "      <td>80000.0</td>\n",
       "      <td>5.0</td>\n",
       "      <td>NaN</td>\n",
       "      <td>NaN</td>\n",
       "      <td>10</td>\n",
       "      <td>0</td>\n",
       "      <td>16000.0</td>\n",
       "      <td>NaN</td>\n",
       "      <td>NaN</td>\n",
       "      <td>NaN</td>\n",
       "      <td>NaN</td>\n",
       "      <td>NaN</td>\n",
       "      <td>NaN</td>\n",
       "      <td>NaN</td>\n",
       "      <td>1.617305</td>\n",
       "      <td>NaN</td>\n",
       "      <td>4465.358272</td>\n",
       "      <td>3265.884615</td>\n",
       "      <td>4517.348356</td>\n",
       "      <td>2.215500</td>\n",
       "      <td>3.029195</td>\n",
       "      <td>2.190002</td>\n",
       "      <td>38</td>\n",
       "    </tr>\n",
       "    <tr>\n",
       "      <th>69712</th>\n",
       "      <td>APPZ60733046119</td>\n",
       "      <td>Male</td>\n",
       "      <td>C10003</td>\n",
       "      <td>A</td>\n",
       "      <td>another</td>\n",
       "      <td>A</td>\n",
       "      <td>1.0</td>\n",
       "      <td>4230.0</td>\n",
       "      <td>NaN</td>\n",
       "      <td>NaN</td>\n",
       "      <td>Y</td>\n",
       "      <td>S122</td>\n",
       "      <td>G</td>\n",
       "      <td>0.0</td>\n",
       "      <td>69000.0</td>\n",
       "      <td>4.0</td>\n",
       "      <td>13.99</td>\n",
       "      <td>1885.0</td>\n",
       "      <td>10</td>\n",
       "      <td>0</td>\n",
       "      <td>17250.0</td>\n",
       "      <td>9653.1</td>\n",
       "      <td>2413.275</td>\n",
       "      <td>7.147963</td>\n",
       "      <td>78653.1</td>\n",
       "      <td>19663.275</td>\n",
       "      <td>1.1399</td>\n",
       "      <td>0.284975</td>\n",
       "      <td>4.078014</td>\n",
       "      <td>0.570514</td>\n",
       "      <td>4130.332287</td>\n",
       "      <td>4965.924390</td>\n",
       "      <td>4517.348356</td>\n",
       "      <td>1.024131</td>\n",
       "      <td>0.851805</td>\n",
       "      <td>0.936390</td>\n",
       "      <td>26</td>\n",
       "    </tr>\n",
       "  </tbody>\n",
       "</table>\n",
       "<p>69713 rows × 37 columns</p>\n",
       "</div>"
      ],
      "text/plain": [
       "                    ID  Gender City_Code City_Category Employer_Code  \\\n",
       "0      APPC90493171225  Female    C10001             A       another   \n",
       "1      APPD40611263344    Male    C10003             A    COM0000002   \n",
       "2      APPE70289249423    Male   another             C       another   \n",
       "3      APPF80273865537    Male   another             C       another   \n",
       "4      APPG60994436641    Male    C10002             A       another   \n",
       "...                ...     ...       ...           ...           ...   \n",
       "69708  APPU90955789628  Female    C10006             A    COM0000010   \n",
       "69709  APPV80989824738  Female   another             C       another   \n",
       "69710  APPW50697209842  Female    C10022             B       another   \n",
       "69711  APPY50870035036    Male    C10002             A       another   \n",
       "69712  APPZ60733046119    Male    C10003             A       another   \n",
       "\n",
       "      Employer_Category1  Employer_Category2  Monthly_Income  \\\n",
       "0                      A                 4.0          2000.0   \n",
       "1                      C                 1.0          3500.0   \n",
       "2                      C                 4.0          2250.0   \n",
       "3                      A                 4.0          3500.0   \n",
       "4                      A                 4.0         10000.0   \n",
       "...                  ...                 ...             ...   \n",
       "69708                  A                 1.0          4900.0   \n",
       "69709                  A                 4.0          7190.1   \n",
       "69710                  C                 4.0          1600.0   \n",
       "69711                  C                 3.0          9893.0   \n",
       "69712                  A                 1.0          4230.0   \n",
       "\n",
       "      Customer_Existing_Primary_Bank_Code Primary_Bank_Type Contacted Source  \\\n",
       "0                                    B001                 P         N   S122   \n",
       "1                                    B002                 P         Y   S122   \n",
       "2                                    B003                 G         Y   S143   \n",
       "3                                    B003                 G         Y   S143   \n",
       "4                                    B001                 P         Y   S134   \n",
       "...                                   ...               ...       ...    ...   \n",
       "69708                                B002                 P         N   S122   \n",
       "69709                                B002                 P         N   S122   \n",
       "69710                                B030                 P         Y   S122   \n",
       "69711                                B002                 P         Y   S122   \n",
       "69712                                 NaN               NaN         Y   S122   \n",
       "\n",
       "      Source_Category  Existing_EMI  Loan_Amount  Loan_Period  Interest_Rate  \\\n",
       "0                   G           0.0          NaN          NaN            NaN   \n",
       "1                   G           0.0      20000.0          2.0          13.25   \n",
       "2                   B           0.0      45000.0          4.0            NaN   \n",
       "3                   B           0.0      92000.0          5.0            NaN   \n",
       "4                   B        2500.0      50000.0          2.0            NaN   \n",
       "...               ...           ...          ...          ...            ...   \n",
       "69708               G           0.0          NaN          NaN            NaN   \n",
       "69709               G        1450.0          NaN          NaN            NaN   \n",
       "69710               G           0.0      24000.0          4.0          35.50   \n",
       "69711               G        1366.0      80000.0          5.0            NaN   \n",
       "69712               G           0.0      69000.0          4.0          13.99   \n",
       "\n",
       "          EMI  Var1  Approved  Loan_Amount_per_Period  Credit_pct  \\\n",
       "0         NaN     0         0                     NaN         NaN   \n",
       "1       953.0    10         0                 10000.0      2650.0   \n",
       "2         NaN     0         0                 11250.0         NaN   \n",
       "3         NaN     7         0                 18400.0         NaN   \n",
       "4         NaN    10         0                 25000.0         NaN   \n",
       "...       ...   ...       ...                     ...         ...   \n",
       "69708     NaN    10         0                     NaN         NaN   \n",
       "69709     NaN     7         0                     NaN         NaN   \n",
       "69710   943.0     2         0                  6000.0      8520.0   \n",
       "69711     NaN    10         0                 16000.0         NaN   \n",
       "69712  1885.0    10         0                 17250.0      9653.1   \n",
       "\n",
       "       Credit_pct_per_Period  Amount_over_pct  Amount_plus_pct  \\\n",
       "0                        NaN              NaN              NaN   \n",
       "1                   1325.000         7.547170          22650.0   \n",
       "2                        NaN              NaN              NaN   \n",
       "3                        NaN              NaN              NaN   \n",
       "4                        NaN              NaN              NaN   \n",
       "...                      ...              ...              ...   \n",
       "69708                    NaN              NaN              NaN   \n",
       "69709                    NaN              NaN              NaN   \n",
       "69710               2130.000         2.816901          32520.0   \n",
       "69711                    NaN              NaN              NaN   \n",
       "69712               2413.275         7.147963          78653.1   \n",
       "\n",
       "       Amount_plus_pct_per_period  Amount_plus_pct_over_amount  \\\n",
       "0                             NaN                          NaN   \n",
       "1                       11325.000                       1.1325   \n",
       "2                             NaN                          NaN   \n",
       "3                             NaN                          NaN   \n",
       "4                             NaN                          NaN   \n",
       "...                           ...                          ...   \n",
       "69708                         NaN                          NaN   \n",
       "69709                         NaN                          NaN   \n",
       "69710                    8130.000                       1.3550   \n",
       "69711                         NaN                          NaN   \n",
       "69712                   19663.275                       1.1399   \n",
       "\n",
       "       Amount_pct_per_period  Credit_over_income  Credit_pct_over_income  \\\n",
       "0                        NaN                 NaN                     NaN   \n",
       "1                   0.566250            2.857143                0.378571   \n",
       "2                        NaN            5.000000                     NaN   \n",
       "3                        NaN            5.257143                     NaN   \n",
       "4                        NaN            2.500000                     NaN   \n",
       "...                      ...                 ...                     ...   \n",
       "69708                    NaN                 NaN                     NaN   \n",
       "69709                    NaN                 NaN                     NaN   \n",
       "69710               0.338750            3.750000                1.331250   \n",
       "69711                    NaN            1.617305                     NaN   \n",
       "69712               0.284975            4.078014                0.570514   \n",
       "\n",
       "       Monthly_Income_in_city  Monthly_Income_at_employer  \\\n",
       "0                13461.737114                 2000.000000   \n",
       "1                 4130.332287                 4789.257987   \n",
       "2                 3668.495833                 2250.000000   \n",
       "3                 1525.000000                 2700.000000   \n",
       "4                 4465.358272                 6644.750000   \n",
       "...                       ...                         ...   \n",
       "69708             4042.877278                 5781.724828   \n",
       "69709             4886.480000                 7190.100000   \n",
       "69710             3472.887186                 1625.000000   \n",
       "69711             4465.358272                 3265.884615   \n",
       "69712             4130.332287                 4965.924390   \n",
       "\n",
       "       Monthly_Income_in_source_category  Monthly_Income_over_city_income  \\\n",
       "0                            4517.348356                         0.148569   \n",
       "1                            4517.348356                         0.847389   \n",
       "2                            6218.750490                         0.613330   \n",
       "3                            6218.750490                         2.295082   \n",
       "4                            6218.750490                         2.239462   \n",
       "...                                  ...                              ...   \n",
       "69708                        4517.348356                         1.212008   \n",
       "69709                        4517.348356                         1.471427   \n",
       "69710                        4517.348356                         0.460712   \n",
       "69711                        4517.348356                         2.215500   \n",
       "69712                        4517.348356                         1.024131   \n",
       "\n",
       "       Monthly_Income_over_employeer_income  \\\n",
       "0                                  1.000000   \n",
       "1                                  0.730802   \n",
       "2                                  1.000000   \n",
       "3                                  1.296296   \n",
       "4                                  1.504948   \n",
       "...                                     ...   \n",
       "69708                              0.847498   \n",
       "69709                              1.000000   \n",
       "69710                              0.984615   \n",
       "69711                              3.029195   \n",
       "69712                              0.851805   \n",
       "\n",
       "       Monthly_Income_over_category_income  Age  \n",
       "0                                 0.442738   36  \n",
       "1                                 0.774791   29  \n",
       "2                                 0.361809   33  \n",
       "3                                 0.562814   27  \n",
       "4                                 1.608040   31  \n",
       "...                                    ...  ...  \n",
       "69708                             1.084707   33  \n",
       "69709                             1.591664   45  \n",
       "69710                             0.354190   24  \n",
       "69711                             2.190002   38  \n",
       "69712                             0.936390   26  \n",
       "\n",
       "[69713 rows x 37 columns]"
      ]
     },
     "execution_count": 5,
     "metadata": {},
     "output_type": "execute_result"
    }
   ],
   "source": [
    "train = pd.read_csv(\n",
    "    path / '/kaggle/input/mckinsey-preprocessed/train_preprocessed.csv')\n",
    "test = pd.read_csv(path /\n",
    "                   '/kaggle/input/mckinsey-preprocessed/test_preprocessed.csv')\n",
    "train"
   ]
  },
  {
   "cell_type": "code",
   "execution_count": 6,
   "metadata": {
    "execution": {
     "iopub.execute_input": "2023-02-07T16:03:03.758753Z",
     "iopub.status.busy": "2023-02-07T16:03:03.757519Z",
     "iopub.status.idle": "2023-02-07T16:03:03.844749Z",
     "shell.execute_reply": "2023-02-07T16:03:03.843185Z",
     "shell.execute_reply.started": "2023-02-07T16:03:03.758699Z"
    }
   },
   "outputs": [],
   "source": [
    "tr_data, te_data = train_test_split(train,\n",
    "                                    test_size=TEST_SIZE,\n",
    "                                    random_state=RANDOM_STATE,\n",
    "                                    stratify=train[TARGET_NAME])"
   ]
  },
  {
   "cell_type": "markdown",
   "metadata": {},
   "source": [
    "## 3 LAMA"
   ]
  },
  {
   "cell_type": "markdown",
   "metadata": {},
   "source": [
    "### 3.1 Task"
   ]
  },
  {
   "cell_type": "code",
   "execution_count": 7,
   "metadata": {
    "execution": {
     "iopub.execute_input": "2023-02-07T16:03:03.847288Z",
     "iopub.status.busy": "2023-02-07T16:03:03.846504Z",
     "iopub.status.idle": "2023-02-07T16:03:03.861145Z",
     "shell.execute_reply": "2023-02-07T16:03:03.860012Z",
     "shell.execute_reply.started": "2023-02-07T16:03:03.847235Z"
    }
   },
   "outputs": [],
   "source": [
    "task = Task('binary', metric=roc_auc_score)"
   ]
  },
  {
   "cell_type": "markdown",
   "metadata": {},
   "source": [
    "### 3.2 Roles"
   ]
  },
  {
   "cell_type": "code",
   "execution_count": 8,
   "metadata": {
    "execution": {
     "iopub.execute_input": "2023-02-07T16:03:03.863449Z",
     "iopub.status.busy": "2023-02-07T16:03:03.862961Z",
     "iopub.status.idle": "2023-02-07T16:03:03.871087Z",
     "shell.execute_reply": "2023-02-07T16:03:03.869593Z",
     "shell.execute_reply.started": "2023-02-07T16:03:03.863401Z"
    }
   },
   "outputs": [],
   "source": [
    "roles = {\n",
    "    'target': TARGET_NAME,\n",
    "    'drop': ['ID', 'DOB', 'Lead_Creation_Date'],\n",
    "    'category': ['Employer_Category2', 'Var1']\n",
    "}"
   ]
  },
  {
   "cell_type": "markdown",
   "metadata": {},
   "source": [
    "### 3.3 Обучение модели"
   ]
  },
  {
   "cell_type": "code",
   "execution_count": 9,
   "metadata": {
    "execution": {
     "iopub.execute_input": "2023-02-07T16:03:03.873295Z",
     "iopub.status.busy": "2023-02-07T16:03:03.872800Z",
     "iopub.status.idle": "2023-02-07T16:03:03.906251Z",
     "shell.execute_reply": "2023-02-07T16:03:03.904922Z",
     "shell.execute_reply.started": "2023-02-07T16:03:03.873207Z"
    }
   },
   "outputs": [],
   "source": [
    "automl = TabularAutoML(\n",
    "    task=task,\n",
    "    timeout=TIMEOUT,\n",
    "    cpu_limit=N_THREADS,\n",
    "    general_params={\n",
    "        'use_algos': [['linear_l2', 'lgb', 'lgb_tuned', 'cbt', 'cbt_tuned']]\n",
    "    },\n",
    "    reader_params={\n",
    "        'n_jobs': N_THREADS,\n",
    "        'cv': N_FOLDS,\n",
    "        'random_state': RANDOM_STATE\n",
    "    })"
   ]
  },
  {
   "cell_type": "code",
   "execution_count": 10,
   "metadata": {
    "execution": {
     "iopub.execute_input": "2023-02-07T16:03:03.912415Z",
     "iopub.status.busy": "2023-02-07T16:03:03.910995Z",
     "iopub.status.idle": "2023-02-07T16:09:25.447448Z",
     "shell.execute_reply": "2023-02-07T16:09:25.445940Z",
     "shell.execute_reply.started": "2023-02-07T16:03:03.912352Z"
    }
   },
   "outputs": [
    {
     "name": "stdout",
     "output_type": "stream",
     "text": [
      "[16:03:03] Stdout logging level is INFO.\n",
      "[16:03:03] Copying TaskTimer may affect the parent PipelineTimer, so copy will create new unlimited TaskTimer\n",
      "[16:03:03] Task: binary\n",
      "\n",
      "[16:03:03] Start automl preset with listed constraints:\n",
      "[16:03:03] - time: 3600.00 seconds\n",
      "[16:03:03] - CPU: 4 cores\n",
      "[16:03:03] - memory: 16 GB\n",
      "\n",
      "[16:03:03] \u001b[1mTrain data shape: (55770, 37)\u001b[0m\n",
      "\n",
      "[16:03:10] Layer \u001b[1m1\u001b[0m train process start. Time left 3593.38 secs\n",
      "[16:03:13] Start fitting \u001b[1mLvl_0_Pipe_0_Mod_0_LinearL2\u001b[0m ...\n",
      "[16:03:26] Fitting \u001b[1mLvl_0_Pipe_0_Mod_0_LinearL2\u001b[0m finished. score = \u001b[1m0.8210558411776837\u001b[0m\n",
      "[16:03:26] \u001b[1mLvl_0_Pipe_0_Mod_0_LinearL2\u001b[0m fitting and predicting completed\n",
      "[16:03:26] Time left 3577.20 secs\n",
      "\n",
      "[16:03:30] \u001b[1mSelector_LightGBM\u001b[0m fitting and predicting completed\n",
      "[16:03:34] Start fitting \u001b[1mLvl_0_Pipe_1_Mod_0_LightGBM\u001b[0m ...\n",
      "[16:04:07] Fitting \u001b[1mLvl_0_Pipe_1_Mod_0_LightGBM\u001b[0m finished. score = \u001b[1m0.8533205267221713\u001b[0m\n",
      "[16:04:07] \u001b[1mLvl_0_Pipe_1_Mod_0_LightGBM\u001b[0m fitting and predicting completed\n",
      "[16:04:07] Start hyperparameters optimization for \u001b[1mLvl_0_Pipe_1_Mod_1_Tuned_LightGBM\u001b[0m ... Time budget is 300.00 secs\n",
      "[16:09:07] Hyperparameters optimization for \u001b[1mLvl_0_Pipe_1_Mod_1_Tuned_LightGBM\u001b[0m completed\n",
      "[16:09:07] Start fitting \u001b[1mLvl_0_Pipe_1_Mod_1_Tuned_LightGBM\u001b[0m ...\n",
      "[16:09:24] Fitting \u001b[1mLvl_0_Pipe_1_Mod_1_Tuned_LightGBM\u001b[0m finished. score = \u001b[1m0.8548480409105084\u001b[0m\n",
      "[16:09:24] \u001b[1mLvl_0_Pipe_1_Mod_1_Tuned_LightGBM\u001b[0m fitting and predicting completed\n",
      "[16:09:24] Time left 3219.78 secs\n",
      "\n",
      "[16:09:24] \u001b[1mLayer 1 training completed.\u001b[0m\n",
      "\n",
      "[16:09:24] Blending: optimization starts with equal weights and score \u001b[1m0.8552801536507896\u001b[0m\n",
      "[16:09:24] Blending: iteration \u001b[1m0\u001b[0m: score = \u001b[1m0.8578314407522298\u001b[0m, weights = \u001b[1m[0.10641958 0.39531153 0.49826887]\u001b[0m\n",
      "[16:09:25] Blending: iteration \u001b[1m1\u001b[0m: score = \u001b[1m0.8578323996647463\u001b[0m, weights = \u001b[1m[0.10277826 0.39389518 0.50332654]\u001b[0m\n",
      "[16:09:25] Blending: iteration \u001b[1m2\u001b[0m: score = \u001b[1m0.8578323996647463\u001b[0m, weights = \u001b[1m[0.10277826 0.39389518 0.50332654]\u001b[0m\n",
      "[16:09:25] Blending: no score update. Terminated\n",
      "\n",
      "[16:09:25] \u001b[1mAutoml preset training completed in 381.50 seconds\u001b[0m\n",
      "\n",
      "[16:09:25] Model description:\n",
      "Final prediction for new objects (level 0) = \n",
      "\t 0.10278 * (5 averaged models Lvl_0_Pipe_0_Mod_0_LinearL2) +\n",
      "\t 0.39390 * (5 averaged models Lvl_0_Pipe_1_Mod_0_LightGBM) +\n",
      "\t 0.50333 * (5 averaged models Lvl_0_Pipe_1_Mod_1_Tuned_LightGBM) \n",
      "\n",
      "CPU times: user 23min 40s, sys: 8.71 s, total: 23min 49s\n",
      "Wall time: 6min 21s\n"
     ]
    }
   ],
   "source": [
    "%%time\n",
    "oof_pred = automl.fit_predict(tr_data, roles=roles, verbose=1)"
   ]
  },
  {
   "cell_type": "markdown",
   "metadata": {},
   "source": [
    "## 4 Результаты"
   ]
  },
  {
   "cell_type": "code",
   "execution_count": 11,
   "metadata": {
    "execution": {
     "iopub.execute_input": "2023-02-07T16:09:25.450065Z",
     "iopub.status.busy": "2023-02-07T16:09:25.449652Z",
     "iopub.status.idle": "2023-02-07T16:09:26.767118Z",
     "shell.execute_reply": "2023-02-07T16:09:26.765607Z",
     "shell.execute_reply.started": "2023-02-07T16:09:25.450017Z"
    }
   },
   "outputs": [
    {
     "name": "stdout",
     "output_type": "stream",
     "text": [
      "Предсказания на отложенной выборке:\n",
      "array([[0.04525771],\n",
      "       [0.00226274],\n",
      "       [0.00225295],\n",
      "       ...,\n",
      "       [0.03580574],\n",
      "       [0.00187255],\n",
      "       [0.01717661]], dtype=float32)\n",
      "CPU times: user 2.6 s, sys: 8.01 ms, total: 2.6 s\n",
      "Wall time: 1.31 s\n"
     ]
    }
   ],
   "source": [
    "%%time\n",
    "holdout_pred = automl.predict(te_data)\n",
    "print(f'Предсказания на отложенной выборке:\\n{holdout_pred}')"
   ]
  },
  {
   "cell_type": "code",
   "execution_count": 12,
   "metadata": {
    "execution": {
     "iopub.execute_input": "2023-02-07T16:09:26.769003Z",
     "iopub.status.busy": "2023-02-07T16:09:26.768627Z",
     "iopub.status.idle": "2023-02-07T16:09:26.800588Z",
     "shell.execute_reply": "2023-02-07T16:09:26.799476Z",
     "shell.execute_reply.started": "2023-02-07T16:09:26.768962Z"
    }
   },
   "outputs": [
    {
     "name": "stdout",
     "output_type": "stream",
     "text": [
      "ROC-AUC на кросс-валидации: 0.85784\n",
      "ROC-AUC на отложенной выборке: 0.83926\n"
     ]
    }
   ],
   "source": [
    "print(\n",
    "    f'ROC-AUC на кросс-валидации: {roc_auc_score(tr_data[TARGET_NAME].values, oof_pred.data):.5f}'\n",
    ")\n",
    "print(\n",
    "    f'ROC-AUC на отложенной выборке: {roc_auc_score(te_data[TARGET_NAME].values, holdout_pred.data):.5f}'\n",
    ")"
   ]
  },
  {
   "cell_type": "markdown",
   "metadata": {},
   "source": [
    "### 4.1 Важность признаков"
   ]
  },
  {
   "cell_type": "markdown",
   "metadata": {},
   "source": [
    "#### 4.1.1 Fast на основе важности признаков из LightGBM"
   ]
  },
  {
   "cell_type": "code",
   "execution_count": 13,
   "metadata": {
    "execution": {
     "iopub.execute_input": "2023-02-07T16:09:26.803706Z",
     "iopub.status.busy": "2023-02-07T16:09:26.802926Z",
     "iopub.status.idle": "2023-02-07T16:09:27.566471Z",
     "shell.execute_reply": "2023-02-07T16:09:27.564999Z",
     "shell.execute_reply.started": "2023-02-07T16:09:26.803666Z"
    }
   },
   "outputs": [
    {
     "data": {
      "image/png": "[encoded data removed]",
      "text/plain": [
       "<Figure size 2160x720 with 1 Axes>"
      ]
     },
     "metadata": {
      "needs_background": "light"
     },
     "output_type": "display_data"
    },
    {
     "name": "stdout",
     "output_type": "stream",
     "text": [
      "CPU times: user 842 ms, sys: 240 ms, total: 1.08 s\n",
      "Wall time: 754 ms\n"
     ]
    }
   ],
   "source": [
    "%%time\n",
    "fast_fi = automl.get_feature_scores('fast')\n",
    "_ = fast_fi.set_index('Feature')['Importance'].plot.bar(figsize=(30, 10),\n",
    "                                                        grid=True)\n",
    "plt.title('Gain importance')\n",
    "plt.show()"
   ]
  },
  {
   "cell_type": "markdown",
   "metadata": {},
   "source": [
    "#### 4.1.2 Permutation importance"
   ]
  },
  {
   "cell_type": "code",
   "execution_count": 14,
   "metadata": {
    "execution": {
     "iopub.execute_input": "2023-02-07T16:09:27.568890Z",
     "iopub.status.busy": "2023-02-07T16:09:27.568223Z",
     "iopub.status.idle": "2023-02-07T16:10:10.261565Z",
     "shell.execute_reply": "2023-02-07T16:10:10.258640Z",
     "shell.execute_reply.started": "2023-02-07T16:09:27.568790Z"
    }
   },
   "outputs": [
    {
     "name": "stdout",
     "output_type": "stream",
     "text": [
      "CPU times: user 1min 26s, sys: 233 ms, total: 1min 26s\n",
      "Wall time: 42.7 s\n"
     ]
    }
   ],
   "source": [
    "%%time\n",
    "accurate_fi = automl.get_feature_scores('accurate', te_data, silent=False)\n",
    "accurate_fi['Importance'] = accurate_fi['Importance'].round(3)"
   ]
  },
  {
   "cell_type": "code",
   "execution_count": 15,
   "metadata": {
    "execution": {
     "iopub.execute_input": "2023-02-07T16:10:10.263713Z",
     "iopub.status.busy": "2023-02-07T16:10:10.263295Z",
     "iopub.status.idle": "2023-02-07T16:10:11.116735Z",
     "shell.execute_reply": "2023-02-07T16:10:11.115702Z",
     "shell.execute_reply.started": "2023-02-07T16:10:10.263671Z"
    }
   },
   "outputs": [
    {
     "data": {
      "image/png": "[encoded data removed]",
      "text/plain": [
       "<Figure size 2160x720 with 1 Axes>"
      ]
     },
     "metadata": {
      "needs_background": "light"
     },
     "output_type": "display_data"
    }
   ],
   "source": [
    "fig = plt.figure(figsize=(30, 10))\n",
    "ax = sns.barplot(x='Feature', y='Importance', data=accurate_fi)\n",
    "ax.bar_label(ax.containers[0])\n",
    "for item in ax.get_xticklabels():\n",
    "    item.set_rotation('vertical')\n",
    "sns.despine(fig)\n",
    "plt.grid()\n",
    "plt.title('Permutation importance')\n",
    "plt.show()"
   ]
  },
  {
   "cell_type": "markdown",
   "metadata": {},
   "source": [
    "По графикам важности признаков можно сделать вывод, что основополагающим признаком при одобрении кредита является месячный доход. \n",
    "\n",
    "Также заметна разница между 2 методами подсчета признаков. При получении важности признаков из модели LightGBM (importance_type=\"gain\"), самыми важными являются признаки, связанные с месячным доходом. Тогда как при подсчете важности признаков через Permutation Importance часть этих признаков (Monthly_Income_over_employeer_income, Monthly_Income_over_category_income) оказывается бесполезной."
   ]
  },
  {
   "cell_type": "markdown",
   "metadata": {},
   "source": [
    "## 5 Предсказания для тестовой выборки"
   ]
  },
  {
   "cell_type": "code",
   "execution_count": 16,
   "metadata": {
    "execution": {
     "iopub.execute_input": "2023-02-07T16:10:11.118978Z",
     "iopub.status.busy": "2023-02-07T16:10:11.117972Z",
     "iopub.status.idle": "2023-02-07T16:10:13.494383Z",
     "shell.execute_reply": "2023-02-07T16:10:13.493383Z",
     "shell.execute_reply.started": "2023-02-07T16:10:11.118939Z"
    }
   },
   "outputs": [
    {
     "name": "stdout",
     "output_type": "stream",
     "text": [
      "Предсказания на тестовой выборке:\n",
      "array([[0.04525771],\n",
      "       [0.00226274],\n",
      "       [0.00225295],\n",
      "       ...,\n",
      "       [0.03580574],\n",
      "       [0.00187255],\n",
      "       [0.01717661]], dtype=float32)\n",
      "CPU times: user 4.89 s, sys: 17 ms, total: 4.91 s\n",
      "Wall time: 2.37 s\n"
     ]
    }
   ],
   "source": [
    "%%time\n",
    "test_pred = automl.predict(test)\n",
    "print(f'Предсказания на тестовой выборке:\\n{holdout_pred}')"
   ]
  }
 ],
 "metadata": {
  "kernelspec": {
   "display_name": "Python 3 (ipykernel)",
   "language": "python",
   "name": "python3"
  },
  "language_info": {
   "codemirror_mode": {
    "name": "ipython",
    "version": 3
   },
   "file_extension": ".py",
   "mimetype": "text/x-python",
   "name": "python",
   "nbconvert_exporter": "python",
   "pygments_lexer": "ipython3",
   "version": "3.9.7"
  },
  "varInspector": {
   "cols": {
    "lenName": 16,
    "lenType": 16,
    "lenVar": 40
   },
   "kernels_config": {
    "python": {
     "delete_cmd_postfix": "",
     "delete_cmd_prefix": "del ",
     "library": "var_list.py",
     "varRefreshCmd": "print(var_dic_list())"
    },
    "r": {
     "delete_cmd_postfix": ") ",
     "delete_cmd_prefix": "rm(",
     "library": "var_list.r",
     "varRefreshCmd": "cat(var_dic_list()) "
    }
   },
   "types_to_exclude": [
    "module",
    "function",
    "builtin_function_or_method",
    "instance",
    "_Feature"
   ],
   "window_display": false
  }
 },
 "nbformat": 4,
 "nbformat_minor": 4
}

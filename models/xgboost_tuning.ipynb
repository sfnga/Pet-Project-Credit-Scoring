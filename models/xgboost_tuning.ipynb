{
 "cells": [
  {
   "cell_type": "markdown",
   "id": "0c87ebf6",
   "metadata": {
    "papermill": {
     "duration": 0.007578,
     "end_time": "2023-02-14T23:04:55.210392",
     "exception": false,
     "start_time": "2023-02-14T23:04:55.202814",
     "status": "completed"
    },
    "tags": []
   },
   "source": [
    "# XGBoost"
   ]
  },
  {
   "cell_type": "markdown",
   "id": "5e2d1fec",
   "metadata": {
    "papermill": {
     "duration": 0.006746,
     "end_time": "2023-02-14T23:04:55.223893",
     "exception": false,
     "start_time": "2023-02-14T23:04:55.217147",
     "status": "completed"
    },
    "tags": []
   },
   "source": [
    "## 1 Импорт библиотек, инициализация глобальных констант"
   ]
  },
  {
   "cell_type": "markdown",
   "id": "02b22e18",
   "metadata": {
    "papermill": {
     "duration": 0.0062,
     "end_time": "2023-02-14T23:04:55.236561",
     "exception": false,
     "start_time": "2023-02-14T23:04:55.230361",
     "status": "completed"
    },
    "tags": []
   },
   "source": [
    "### 1.1 Импорт библиотек"
   ]
  },
  {
   "cell_type": "code",
   "execution_count": 1,
   "id": "e5d5c0df",
   "metadata": {
    "execution": {
     "iopub.execute_input": "2023-02-14T23:04:55.252689Z",
     "iopub.status.busy": "2023-02-14T23:04:55.252198Z",
     "iopub.status.idle": "2023-02-14T23:05:25.181627Z",
     "shell.execute_reply": "2023-02-14T23:05:25.180399Z"
    },
    "papermill": {
     "duration": 29.940814,
     "end_time": "2023-02-14T23:05:25.184489",
     "exception": false,
     "start_time": "2023-02-14T23:04:55.243675",
     "status": "completed"
    },
    "tags": []
   },
   "outputs": [],
   "source": [
    "import pandas as pd\n",
    "import numpy as np\n",
    "from pathlib import Path\n",
    "from colorama import Fore, Back, Style\n",
    "\n",
    "from sklearn.model_selection import StratifiedKFold, train_test_split\n",
    "from sklearn.preprocessing import OneHotEncoder, OrdinalEncoder\n",
    "from sklearn.metrics import roc_auc_score\n",
    "import xgboost as xgb\n",
    "import optuna\n",
    "\n",
    "pd.set_option('display.max_columns', 50)\n",
    "optuna.logging.set_verbosity(optuna.logging.WARNING)"
   ]
  },
  {
   "cell_type": "markdown",
   "id": "bd6b5cd6",
   "metadata": {
    "papermill": {
     "duration": 0.008416,
     "end_time": "2023-02-14T23:05:25.202587",
     "exception": false,
     "start_time": "2023-02-14T23:05:25.194171",
     "status": "completed"
    },
    "tags": []
   },
   "source": [
    "### 1.2 Инициализация констант"
   ]
  },
  {
   "cell_type": "code",
   "execution_count": 2,
   "id": "810e1db7",
   "metadata": {
    "execution": {
     "iopub.execute_input": "2023-02-14T23:05:25.222221Z",
     "iopub.status.busy": "2023-02-14T23:05:25.221441Z",
     "iopub.status.idle": "2023-02-14T23:05:25.227681Z",
     "shell.execute_reply": "2023-02-14T23:05:25.226383Z"
    },
    "papermill": {
     "duration": 0.018706,
     "end_time": "2023-02-14T23:05:25.230101",
     "exception": false,
     "start_time": "2023-02-14T23:05:25.211395",
     "status": "completed"
    },
    "tags": []
   },
   "outputs": [],
   "source": [
    "# путь к папке с данными\n",
    "path = Path('')\n",
    "# название целевой переменной\n",
    "TARGET_NAME = 'Approved'\n",
    "# количество фолдов для кросс-валидации\n",
    "N_FOLDS = 5\n",
    "# random state для воспроизводимости\n",
    "RANDOM_STATE = 42\n",
    "# размер отложенной выборки\n",
    "TEST_SIZE = 0.2"
   ]
  },
  {
   "cell_type": "markdown",
   "id": "e27120fb",
   "metadata": {
    "papermill": {
     "duration": 0.008552,
     "end_time": "2023-02-14T23:05:25.247758",
     "exception": false,
     "start_time": "2023-02-14T23:05:25.239206",
     "status": "completed"
    },
    "tags": []
   },
   "source": [
    "## 2 Подготовка данных"
   ]
  },
  {
   "cell_type": "code",
   "execution_count": 3,
   "id": "5c234fad",
   "metadata": {
    "execution": {
     "iopub.execute_input": "2023-02-14T23:05:25.267817Z",
     "iopub.status.busy": "2023-02-14T23:05:25.267104Z",
     "iopub.status.idle": "2023-02-14T23:05:26.289468Z",
     "shell.execute_reply": "2023-02-14T23:05:26.288176Z"
    },
    "papermill": {
     "duration": 1.035171,
     "end_time": "2023-02-14T23:05:26.291950",
     "exception": false,
     "start_time": "2023-02-14T23:05:25.256779",
     "status": "completed"
    },
    "tags": []
   },
   "outputs": [
    {
     "data": {
      "text/html": [
       "<div>\n",
       "<style scoped>\n",
       "    .dataframe tbody tr th:only-of-type {\n",
       "        vertical-align: middle;\n",
       "    }\n",
       "\n",
       "    .dataframe tbody tr th {\n",
       "        vertical-align: top;\n",
       "    }\n",
       "\n",
       "    .dataframe thead th {\n",
       "        text-align: right;\n",
       "    }\n",
       "</style>\n",
       "<table border=\"1\" class=\"dataframe\">\n",
       "  <thead>\n",
       "    <tr style=\"text-align: right;\">\n",
       "      <th></th>\n",
       "      <th>ID</th>\n",
       "      <th>Gender</th>\n",
       "      <th>City_Code</th>\n",
       "      <th>City_Category</th>\n",
       "      <th>Employer_Code</th>\n",
       "      <th>Employer_Category1</th>\n",
       "      <th>Employer_Category2</th>\n",
       "      <th>Monthly_Income</th>\n",
       "      <th>Customer_Existing_Primary_Bank_Code</th>\n",
       "      <th>Primary_Bank_Type</th>\n",
       "      <th>Contacted</th>\n",
       "      <th>Source</th>\n",
       "      <th>Source_Category</th>\n",
       "      <th>Existing_EMI</th>\n",
       "      <th>Loan_Amount</th>\n",
       "      <th>Loan_Period</th>\n",
       "      <th>Interest_Rate</th>\n",
       "      <th>EMI</th>\n",
       "      <th>Var1</th>\n",
       "      <th>Approved</th>\n",
       "      <th>Loan_Amount_per_Period</th>\n",
       "      <th>Credit_pct</th>\n",
       "      <th>Credit_pct_per_Period</th>\n",
       "      <th>Amount_over_pct</th>\n",
       "      <th>Amount_plus_pct</th>\n",
       "      <th>Amount_plus_pct_per_period</th>\n",
       "      <th>Amount_plus_pct_over_amount</th>\n",
       "      <th>Amount_pct_per_period</th>\n",
       "      <th>Credit_over_income</th>\n",
       "      <th>Credit_pct_over_income</th>\n",
       "      <th>Monthly_Income_in_city</th>\n",
       "      <th>Monthly_Income_at_employer</th>\n",
       "      <th>Monthly_Income_in_source_category</th>\n",
       "      <th>Monthly_Income_over_city_income</th>\n",
       "      <th>Monthly_Income_over_employeer_income</th>\n",
       "      <th>Monthly_Income_over_category_income</th>\n",
       "      <th>Age</th>\n",
       "    </tr>\n",
       "  </thead>\n",
       "  <tbody>\n",
       "    <tr>\n",
       "      <th>0</th>\n",
       "      <td>APPC90493171225</td>\n",
       "      <td>Female</td>\n",
       "      <td>C10001</td>\n",
       "      <td>A</td>\n",
       "      <td>another</td>\n",
       "      <td>A</td>\n",
       "      <td>4.0</td>\n",
       "      <td>2000.0</td>\n",
       "      <td>B001</td>\n",
       "      <td>P</td>\n",
       "      <td>N</td>\n",
       "      <td>S122</td>\n",
       "      <td>G</td>\n",
       "      <td>0.0</td>\n",
       "      <td>NaN</td>\n",
       "      <td>NaN</td>\n",
       "      <td>NaN</td>\n",
       "      <td>NaN</td>\n",
       "      <td>0</td>\n",
       "      <td>0</td>\n",
       "      <td>NaN</td>\n",
       "      <td>NaN</td>\n",
       "      <td>NaN</td>\n",
       "      <td>NaN</td>\n",
       "      <td>NaN</td>\n",
       "      <td>NaN</td>\n",
       "      <td>NaN</td>\n",
       "      <td>NaN</td>\n",
       "      <td>NaN</td>\n",
       "      <td>NaN</td>\n",
       "      <td>13461.737114</td>\n",
       "      <td>2000.000000</td>\n",
       "      <td>4517.348356</td>\n",
       "      <td>0.148569</td>\n",
       "      <td>1.000000</td>\n",
       "      <td>0.442738</td>\n",
       "      <td>36</td>\n",
       "    </tr>\n",
       "    <tr>\n",
       "      <th>1</th>\n",
       "      <td>APPD40611263344</td>\n",
       "      <td>Male</td>\n",
       "      <td>C10003</td>\n",
       "      <td>A</td>\n",
       "      <td>COM0000002</td>\n",
       "      <td>C</td>\n",
       "      <td>1.0</td>\n",
       "      <td>3500.0</td>\n",
       "      <td>B002</td>\n",
       "      <td>P</td>\n",
       "      <td>Y</td>\n",
       "      <td>S122</td>\n",
       "      <td>G</td>\n",
       "      <td>0.0</td>\n",
       "      <td>20000.0</td>\n",
       "      <td>2.0</td>\n",
       "      <td>13.25</td>\n",
       "      <td>953.0</td>\n",
       "      <td>10</td>\n",
       "      <td>0</td>\n",
       "      <td>10000.0</td>\n",
       "      <td>2650.0</td>\n",
       "      <td>1325.000</td>\n",
       "      <td>7.547170</td>\n",
       "      <td>22650.0</td>\n",
       "      <td>11325.000</td>\n",
       "      <td>1.1325</td>\n",
       "      <td>0.566250</td>\n",
       "      <td>2.857143</td>\n",
       "      <td>0.378571</td>\n",
       "      <td>4130.332287</td>\n",
       "      <td>4789.257987</td>\n",
       "      <td>4517.348356</td>\n",
       "      <td>0.847389</td>\n",
       "      <td>0.730802</td>\n",
       "      <td>0.774791</td>\n",
       "      <td>29</td>\n",
       "    </tr>\n",
       "    <tr>\n",
       "      <th>2</th>\n",
       "      <td>APPE70289249423</td>\n",
       "      <td>Male</td>\n",
       "      <td>another</td>\n",
       "      <td>C</td>\n",
       "      <td>another</td>\n",
       "      <td>C</td>\n",
       "      <td>4.0</td>\n",
       "      <td>2250.0</td>\n",
       "      <td>B003</td>\n",
       "      <td>G</td>\n",
       "      <td>Y</td>\n",
       "      <td>S143</td>\n",
       "      <td>B</td>\n",
       "      <td>0.0</td>\n",
       "      <td>45000.0</td>\n",
       "      <td>4.0</td>\n",
       "      <td>NaN</td>\n",
       "      <td>NaN</td>\n",
       "      <td>0</td>\n",
       "      <td>0</td>\n",
       "      <td>11250.0</td>\n",
       "      <td>NaN</td>\n",
       "      <td>NaN</td>\n",
       "      <td>NaN</td>\n",
       "      <td>NaN</td>\n",
       "      <td>NaN</td>\n",
       "      <td>NaN</td>\n",
       "      <td>NaN</td>\n",
       "      <td>5.000000</td>\n",
       "      <td>NaN</td>\n",
       "      <td>3668.495833</td>\n",
       "      <td>2250.000000</td>\n",
       "      <td>6218.750490</td>\n",
       "      <td>0.613330</td>\n",
       "      <td>1.000000</td>\n",
       "      <td>0.361809</td>\n",
       "      <td>33</td>\n",
       "    </tr>\n",
       "    <tr>\n",
       "      <th>3</th>\n",
       "      <td>APPF80273865537</td>\n",
       "      <td>Male</td>\n",
       "      <td>another</td>\n",
       "      <td>C</td>\n",
       "      <td>another</td>\n",
       "      <td>A</td>\n",
       "      <td>4.0</td>\n",
       "      <td>3500.0</td>\n",
       "      <td>B003</td>\n",
       "      <td>G</td>\n",
       "      <td>Y</td>\n",
       "      <td>S143</td>\n",
       "      <td>B</td>\n",
       "      <td>0.0</td>\n",
       "      <td>92000.0</td>\n",
       "      <td>5.0</td>\n",
       "      <td>NaN</td>\n",
       "      <td>NaN</td>\n",
       "      <td>7</td>\n",
       "      <td>0</td>\n",
       "      <td>18400.0</td>\n",
       "      <td>NaN</td>\n",
       "      <td>NaN</td>\n",
       "      <td>NaN</td>\n",
       "      <td>NaN</td>\n",
       "      <td>NaN</td>\n",
       "      <td>NaN</td>\n",
       "      <td>NaN</td>\n",
       "      <td>5.257143</td>\n",
       "      <td>NaN</td>\n",
       "      <td>1525.000000</td>\n",
       "      <td>2700.000000</td>\n",
       "      <td>6218.750490</td>\n",
       "      <td>2.295082</td>\n",
       "      <td>1.296296</td>\n",
       "      <td>0.562814</td>\n",
       "      <td>27</td>\n",
       "    </tr>\n",
       "    <tr>\n",
       "      <th>4</th>\n",
       "      <td>APPG60994436641</td>\n",
       "      <td>Male</td>\n",
       "      <td>C10002</td>\n",
       "      <td>A</td>\n",
       "      <td>another</td>\n",
       "      <td>A</td>\n",
       "      <td>4.0</td>\n",
       "      <td>10000.0</td>\n",
       "      <td>B001</td>\n",
       "      <td>P</td>\n",
       "      <td>Y</td>\n",
       "      <td>S134</td>\n",
       "      <td>B</td>\n",
       "      <td>2500.0</td>\n",
       "      <td>50000.0</td>\n",
       "      <td>2.0</td>\n",
       "      <td>NaN</td>\n",
       "      <td>NaN</td>\n",
       "      <td>10</td>\n",
       "      <td>0</td>\n",
       "      <td>25000.0</td>\n",
       "      <td>NaN</td>\n",
       "      <td>NaN</td>\n",
       "      <td>NaN</td>\n",
       "      <td>NaN</td>\n",
       "      <td>NaN</td>\n",
       "      <td>NaN</td>\n",
       "      <td>NaN</td>\n",
       "      <td>2.500000</td>\n",
       "      <td>NaN</td>\n",
       "      <td>4465.358272</td>\n",
       "      <td>6644.750000</td>\n",
       "      <td>6218.750490</td>\n",
       "      <td>2.239462</td>\n",
       "      <td>1.504948</td>\n",
       "      <td>1.608040</td>\n",
       "      <td>31</td>\n",
       "    </tr>\n",
       "    <tr>\n",
       "      <th>...</th>\n",
       "      <td>...</td>\n",
       "      <td>...</td>\n",
       "      <td>...</td>\n",
       "      <td>...</td>\n",
       "      <td>...</td>\n",
       "      <td>...</td>\n",
       "      <td>...</td>\n",
       "      <td>...</td>\n",
       "      <td>...</td>\n",
       "      <td>...</td>\n",
       "      <td>...</td>\n",
       "      <td>...</td>\n",
       "      <td>...</td>\n",
       "      <td>...</td>\n",
       "      <td>...</td>\n",
       "      <td>...</td>\n",
       "      <td>...</td>\n",
       "      <td>...</td>\n",
       "      <td>...</td>\n",
       "      <td>...</td>\n",
       "      <td>...</td>\n",
       "      <td>...</td>\n",
       "      <td>...</td>\n",
       "      <td>...</td>\n",
       "      <td>...</td>\n",
       "      <td>...</td>\n",
       "      <td>...</td>\n",
       "      <td>...</td>\n",
       "      <td>...</td>\n",
       "      <td>...</td>\n",
       "      <td>...</td>\n",
       "      <td>...</td>\n",
       "      <td>...</td>\n",
       "      <td>...</td>\n",
       "      <td>...</td>\n",
       "      <td>...</td>\n",
       "      <td>...</td>\n",
       "    </tr>\n",
       "    <tr>\n",
       "      <th>69708</th>\n",
       "      <td>APPU90955789628</td>\n",
       "      <td>Female</td>\n",
       "      <td>C10006</td>\n",
       "      <td>A</td>\n",
       "      <td>COM0000010</td>\n",
       "      <td>A</td>\n",
       "      <td>1.0</td>\n",
       "      <td>4900.0</td>\n",
       "      <td>B002</td>\n",
       "      <td>P</td>\n",
       "      <td>N</td>\n",
       "      <td>S122</td>\n",
       "      <td>G</td>\n",
       "      <td>0.0</td>\n",
       "      <td>NaN</td>\n",
       "      <td>NaN</td>\n",
       "      <td>NaN</td>\n",
       "      <td>NaN</td>\n",
       "      <td>10</td>\n",
       "      <td>0</td>\n",
       "      <td>NaN</td>\n",
       "      <td>NaN</td>\n",
       "      <td>NaN</td>\n",
       "      <td>NaN</td>\n",
       "      <td>NaN</td>\n",
       "      <td>NaN</td>\n",
       "      <td>NaN</td>\n",
       "      <td>NaN</td>\n",
       "      <td>NaN</td>\n",
       "      <td>NaN</td>\n",
       "      <td>4042.877278</td>\n",
       "      <td>5781.724828</td>\n",
       "      <td>4517.348356</td>\n",
       "      <td>1.212008</td>\n",
       "      <td>0.847498</td>\n",
       "      <td>1.084707</td>\n",
       "      <td>33</td>\n",
       "    </tr>\n",
       "    <tr>\n",
       "      <th>69709</th>\n",
       "      <td>APPV80989824738</td>\n",
       "      <td>Female</td>\n",
       "      <td>another</td>\n",
       "      <td>C</td>\n",
       "      <td>another</td>\n",
       "      <td>A</td>\n",
       "      <td>4.0</td>\n",
       "      <td>7190.1</td>\n",
       "      <td>B002</td>\n",
       "      <td>P</td>\n",
       "      <td>N</td>\n",
       "      <td>S122</td>\n",
       "      <td>G</td>\n",
       "      <td>1450.0</td>\n",
       "      <td>NaN</td>\n",
       "      <td>NaN</td>\n",
       "      <td>NaN</td>\n",
       "      <td>NaN</td>\n",
       "      <td>7</td>\n",
       "      <td>0</td>\n",
       "      <td>NaN</td>\n",
       "      <td>NaN</td>\n",
       "      <td>NaN</td>\n",
       "      <td>NaN</td>\n",
       "      <td>NaN</td>\n",
       "      <td>NaN</td>\n",
       "      <td>NaN</td>\n",
       "      <td>NaN</td>\n",
       "      <td>NaN</td>\n",
       "      <td>NaN</td>\n",
       "      <td>4886.480000</td>\n",
       "      <td>7190.100000</td>\n",
       "      <td>4517.348356</td>\n",
       "      <td>1.471427</td>\n",
       "      <td>1.000000</td>\n",
       "      <td>1.591664</td>\n",
       "      <td>45</td>\n",
       "    </tr>\n",
       "    <tr>\n",
       "      <th>69710</th>\n",
       "      <td>APPW50697209842</td>\n",
       "      <td>Female</td>\n",
       "      <td>C10022</td>\n",
       "      <td>B</td>\n",
       "      <td>another</td>\n",
       "      <td>C</td>\n",
       "      <td>4.0</td>\n",
       "      <td>1600.0</td>\n",
       "      <td>B030</td>\n",
       "      <td>P</td>\n",
       "      <td>Y</td>\n",
       "      <td>S122</td>\n",
       "      <td>G</td>\n",
       "      <td>0.0</td>\n",
       "      <td>24000.0</td>\n",
       "      <td>4.0</td>\n",
       "      <td>35.50</td>\n",
       "      <td>943.0</td>\n",
       "      <td>2</td>\n",
       "      <td>0</td>\n",
       "      <td>6000.0</td>\n",
       "      <td>8520.0</td>\n",
       "      <td>2130.000</td>\n",
       "      <td>2.816901</td>\n",
       "      <td>32520.0</td>\n",
       "      <td>8130.000</td>\n",
       "      <td>1.3550</td>\n",
       "      <td>0.338750</td>\n",
       "      <td>3.750000</td>\n",
       "      <td>1.331250</td>\n",
       "      <td>3472.887186</td>\n",
       "      <td>1625.000000</td>\n",
       "      <td>4517.348356</td>\n",
       "      <td>0.460712</td>\n",
       "      <td>0.984615</td>\n",
       "      <td>0.354190</td>\n",
       "      <td>24</td>\n",
       "    </tr>\n",
       "    <tr>\n",
       "      <th>69711</th>\n",
       "      <td>APPY50870035036</td>\n",
       "      <td>Male</td>\n",
       "      <td>C10002</td>\n",
       "      <td>A</td>\n",
       "      <td>another</td>\n",
       "      <td>C</td>\n",
       "      <td>3.0</td>\n",
       "      <td>9893.0</td>\n",
       "      <td>B002</td>\n",
       "      <td>P</td>\n",
       "      <td>Y</td>\n",
       "      <td>S122</td>\n",
       "      <td>G</td>\n",
       "      <td>1366.0</td>\n",
       "      <td>80000.0</td>\n",
       "      <td>5.0</td>\n",
       "      <td>NaN</td>\n",
       "      <td>NaN</td>\n",
       "      <td>10</td>\n",
       "      <td>0</td>\n",
       "      <td>16000.0</td>\n",
       "      <td>NaN</td>\n",
       "      <td>NaN</td>\n",
       "      <td>NaN</td>\n",
       "      <td>NaN</td>\n",
       "      <td>NaN</td>\n",
       "      <td>NaN</td>\n",
       "      <td>NaN</td>\n",
       "      <td>1.617305</td>\n",
       "      <td>NaN</td>\n",
       "      <td>4465.358272</td>\n",
       "      <td>3265.884615</td>\n",
       "      <td>4517.348356</td>\n",
       "      <td>2.215500</td>\n",
       "      <td>3.029195</td>\n",
       "      <td>2.190002</td>\n",
       "      <td>38</td>\n",
       "    </tr>\n",
       "    <tr>\n",
       "      <th>69712</th>\n",
       "      <td>APPZ60733046119</td>\n",
       "      <td>Male</td>\n",
       "      <td>C10003</td>\n",
       "      <td>A</td>\n",
       "      <td>another</td>\n",
       "      <td>A</td>\n",
       "      <td>1.0</td>\n",
       "      <td>4230.0</td>\n",
       "      <td>NaN</td>\n",
       "      <td>NaN</td>\n",
       "      <td>Y</td>\n",
       "      <td>S122</td>\n",
       "      <td>G</td>\n",
       "      <td>0.0</td>\n",
       "      <td>69000.0</td>\n",
       "      <td>4.0</td>\n",
       "      <td>13.99</td>\n",
       "      <td>1885.0</td>\n",
       "      <td>10</td>\n",
       "      <td>0</td>\n",
       "      <td>17250.0</td>\n",
       "      <td>9653.1</td>\n",
       "      <td>2413.275</td>\n",
       "      <td>7.147963</td>\n",
       "      <td>78653.1</td>\n",
       "      <td>19663.275</td>\n",
       "      <td>1.1399</td>\n",
       "      <td>0.284975</td>\n",
       "      <td>4.078014</td>\n",
       "      <td>0.570514</td>\n",
       "      <td>4130.332287</td>\n",
       "      <td>4965.924390</td>\n",
       "      <td>4517.348356</td>\n",
       "      <td>1.024131</td>\n",
       "      <td>0.851805</td>\n",
       "      <td>0.936390</td>\n",
       "      <td>26</td>\n",
       "    </tr>\n",
       "  </tbody>\n",
       "</table>\n",
       "<p>69713 rows × 37 columns</p>\n",
       "</div>"
      ],
      "text/plain": [
       "                    ID  Gender City_Code City_Category Employer_Code  \\\n",
       "0      APPC90493171225  Female    C10001             A       another   \n",
       "1      APPD40611263344    Male    C10003             A    COM0000002   \n",
       "2      APPE70289249423    Male   another             C       another   \n",
       "3      APPF80273865537    Male   another             C       another   \n",
       "4      APPG60994436641    Male    C10002             A       another   \n",
       "...                ...     ...       ...           ...           ...   \n",
       "69708  APPU90955789628  Female    C10006             A    COM0000010   \n",
       "69709  APPV80989824738  Female   another             C       another   \n",
       "69710  APPW50697209842  Female    C10022             B       another   \n",
       "69711  APPY50870035036    Male    C10002             A       another   \n",
       "69712  APPZ60733046119    Male    C10003             A       another   \n",
       "\n",
       "      Employer_Category1  Employer_Category2  Monthly_Income  \\\n",
       "0                      A                 4.0          2000.0   \n",
       "1                      C                 1.0          3500.0   \n",
       "2                      C                 4.0          2250.0   \n",
       "3                      A                 4.0          3500.0   \n",
       "4                      A                 4.0         10000.0   \n",
       "...                  ...                 ...             ...   \n",
       "69708                  A                 1.0          4900.0   \n",
       "69709                  A                 4.0          7190.1   \n",
       "69710                  C                 4.0          1600.0   \n",
       "69711                  C                 3.0          9893.0   \n",
       "69712                  A                 1.0          4230.0   \n",
       "\n",
       "      Customer_Existing_Primary_Bank_Code Primary_Bank_Type Contacted Source  \\\n",
       "0                                    B001                 P         N   S122   \n",
       "1                                    B002                 P         Y   S122   \n",
       "2                                    B003                 G         Y   S143   \n",
       "3                                    B003                 G         Y   S143   \n",
       "4                                    B001                 P         Y   S134   \n",
       "...                                   ...               ...       ...    ...   \n",
       "69708                                B002                 P         N   S122   \n",
       "69709                                B002                 P         N   S122   \n",
       "69710                                B030                 P         Y   S122   \n",
       "69711                                B002                 P         Y   S122   \n",
       "69712                                 NaN               NaN         Y   S122   \n",
       "\n",
       "      Source_Category  Existing_EMI  Loan_Amount  Loan_Period  Interest_Rate  \\\n",
       "0                   G           0.0          NaN          NaN            NaN   \n",
       "1                   G           0.0      20000.0          2.0          13.25   \n",
       "2                   B           0.0      45000.0          4.0            NaN   \n",
       "3                   B           0.0      92000.0          5.0            NaN   \n",
       "4                   B        2500.0      50000.0          2.0            NaN   \n",
       "...               ...           ...          ...          ...            ...   \n",
       "69708               G           0.0          NaN          NaN            NaN   \n",
       "69709               G        1450.0          NaN          NaN            NaN   \n",
       "69710               G           0.0      24000.0          4.0          35.50   \n",
       "69711               G        1366.0      80000.0          5.0            NaN   \n",
       "69712               G           0.0      69000.0          4.0          13.99   \n",
       "\n",
       "          EMI  Var1  Approved  Loan_Amount_per_Period  Credit_pct  \\\n",
       "0         NaN     0         0                     NaN         NaN   \n",
       "1       953.0    10         0                 10000.0      2650.0   \n",
       "2         NaN     0         0                 11250.0         NaN   \n",
       "3         NaN     7         0                 18400.0         NaN   \n",
       "4         NaN    10         0                 25000.0         NaN   \n",
       "...       ...   ...       ...                     ...         ...   \n",
       "69708     NaN    10         0                     NaN         NaN   \n",
       "69709     NaN     7         0                     NaN         NaN   \n",
       "69710   943.0     2         0                  6000.0      8520.0   \n",
       "69711     NaN    10         0                 16000.0         NaN   \n",
       "69712  1885.0    10         0                 17250.0      9653.1   \n",
       "\n",
       "       Credit_pct_per_Period  Amount_over_pct  Amount_plus_pct  \\\n",
       "0                        NaN              NaN              NaN   \n",
       "1                   1325.000         7.547170          22650.0   \n",
       "2                        NaN              NaN              NaN   \n",
       "3                        NaN              NaN              NaN   \n",
       "4                        NaN              NaN              NaN   \n",
       "...                      ...              ...              ...   \n",
       "69708                    NaN              NaN              NaN   \n",
       "69709                    NaN              NaN              NaN   \n",
       "69710               2130.000         2.816901          32520.0   \n",
       "69711                    NaN              NaN              NaN   \n",
       "69712               2413.275         7.147963          78653.1   \n",
       "\n",
       "       Amount_plus_pct_per_period  Amount_plus_pct_over_amount  \\\n",
       "0                             NaN                          NaN   \n",
       "1                       11325.000                       1.1325   \n",
       "2                             NaN                          NaN   \n",
       "3                             NaN                          NaN   \n",
       "4                             NaN                          NaN   \n",
       "...                           ...                          ...   \n",
       "69708                         NaN                          NaN   \n",
       "69709                         NaN                          NaN   \n",
       "69710                    8130.000                       1.3550   \n",
       "69711                         NaN                          NaN   \n",
       "69712                   19663.275                       1.1399   \n",
       "\n",
       "       Amount_pct_per_period  Credit_over_income  Credit_pct_over_income  \\\n",
       "0                        NaN                 NaN                     NaN   \n",
       "1                   0.566250            2.857143                0.378571   \n",
       "2                        NaN            5.000000                     NaN   \n",
       "3                        NaN            5.257143                     NaN   \n",
       "4                        NaN            2.500000                     NaN   \n",
       "...                      ...                 ...                     ...   \n",
       "69708                    NaN                 NaN                     NaN   \n",
       "69709                    NaN                 NaN                     NaN   \n",
       "69710               0.338750            3.750000                1.331250   \n",
       "69711                    NaN            1.617305                     NaN   \n",
       "69712               0.284975            4.078014                0.570514   \n",
       "\n",
       "       Monthly_Income_in_city  Monthly_Income_at_employer  \\\n",
       "0                13461.737114                 2000.000000   \n",
       "1                 4130.332287                 4789.257987   \n",
       "2                 3668.495833                 2250.000000   \n",
       "3                 1525.000000                 2700.000000   \n",
       "4                 4465.358272                 6644.750000   \n",
       "...                       ...                         ...   \n",
       "69708             4042.877278                 5781.724828   \n",
       "69709             4886.480000                 7190.100000   \n",
       "69710             3472.887186                 1625.000000   \n",
       "69711             4465.358272                 3265.884615   \n",
       "69712             4130.332287                 4965.924390   \n",
       "\n",
       "       Monthly_Income_in_source_category  Monthly_Income_over_city_income  \\\n",
       "0                            4517.348356                         0.148569   \n",
       "1                            4517.348356                         0.847389   \n",
       "2                            6218.750490                         0.613330   \n",
       "3                            6218.750490                         2.295082   \n",
       "4                            6218.750490                         2.239462   \n",
       "...                                  ...                              ...   \n",
       "69708                        4517.348356                         1.212008   \n",
       "69709                        4517.348356                         1.471427   \n",
       "69710                        4517.348356                         0.460712   \n",
       "69711                        4517.348356                         2.215500   \n",
       "69712                        4517.348356                         1.024131   \n",
       "\n",
       "       Monthly_Income_over_employeer_income  \\\n",
       "0                                  1.000000   \n",
       "1                                  0.730802   \n",
       "2                                  1.000000   \n",
       "3                                  1.296296   \n",
       "4                                  1.504948   \n",
       "...                                     ...   \n",
       "69708                              0.847498   \n",
       "69709                              1.000000   \n",
       "69710                              0.984615   \n",
       "69711                              3.029195   \n",
       "69712                              0.851805   \n",
       "\n",
       "       Monthly_Income_over_category_income  Age  \n",
       "0                                 0.442738   36  \n",
       "1                                 0.774791   29  \n",
       "2                                 0.361809   33  \n",
       "3                                 0.562814   27  \n",
       "4                                 1.608040   31  \n",
       "...                                    ...  ...  \n",
       "69708                             1.084707   33  \n",
       "69709                             1.591664   45  \n",
       "69710                             0.354190   24  \n",
       "69711                             2.190002   38  \n",
       "69712                             0.936390   26  \n",
       "\n",
       "[69713 rows x 37 columns]"
      ]
     },
     "execution_count": 3,
     "metadata": {},
     "output_type": "execute_result"
    }
   ],
   "source": [
    "train = pd.read_csv(path / 'train_preprocessed.csv')\n",
    "test = pd.read_csv(path / 'test_preprocessed.csv')\n",
    "train"
   ]
  },
  {
   "cell_type": "markdown",
   "id": "9e925600",
   "metadata": {
    "papermill": {
     "duration": 0.009263,
     "end_time": "2023-02-14T23:05:26.310983",
     "exception": false,
     "start_time": "2023-02-14T23:05:26.301720",
     "status": "completed"
    },
    "tags": []
   },
   "source": [
    "### 2.1 Используемые признаки при обучении"
   ]
  },
  {
   "cell_type": "code",
   "execution_count": 4,
   "id": "d74f97aa",
   "metadata": {
    "execution": {
     "iopub.execute_input": "2023-02-14T23:05:26.332637Z",
     "iopub.status.busy": "2023-02-14T23:05:26.332249Z",
     "iopub.status.idle": "2023-02-14T23:05:26.381606Z",
     "shell.execute_reply": "2023-02-14T23:05:26.380381Z"
    },
    "papermill": {
     "duration": 0.063698,
     "end_time": "2023-02-14T23:05:26.384332",
     "exception": false,
     "start_time": "2023-02-14T23:05:26.320634",
     "status": "completed"
    },
    "tags": []
   },
   "outputs": [],
   "source": [
    "# используемые признаки при обучении\n",
    "features = [\n",
    "    c for c in train.columns if c != 'ID' and c != 'Approved'\n",
    "    and c != 'Monthly_Income_in_source_category'\n",
    "]\n",
    "# численные признаки\n",
    "num_features = train.select_dtypes(\n",
    "    include=[int, float]).nunique()[lambda x: x > 25].index\n",
    "# категориальные признаки\n",
    "cat_features = list(set(features) - set(num_features))"
   ]
  },
  {
   "cell_type": "markdown",
   "id": "07ba80c8",
   "metadata": {
    "papermill": {
     "duration": 0.009909,
     "end_time": "2023-02-14T23:05:26.404155",
     "exception": false,
     "start_time": "2023-02-14T23:05:26.394246",
     "status": "completed"
    },
    "tags": []
   },
   "source": [
    "### 2.2 Отложенная выборка"
   ]
  },
  {
   "cell_type": "code",
   "execution_count": 5,
   "id": "96de5cab",
   "metadata": {
    "execution": {
     "iopub.execute_input": "2023-02-14T23:05:26.427890Z",
     "iopub.status.busy": "2023-02-14T23:05:26.427107Z",
     "iopub.status.idle": "2023-02-14T23:05:26.532530Z",
     "shell.execute_reply": "2023-02-14T23:05:26.531427Z"
    },
    "papermill": {
     "duration": 0.120683,
     "end_time": "2023-02-14T23:05:26.535358",
     "exception": false,
     "start_time": "2023-02-14T23:05:26.414675",
     "status": "completed"
    },
    "tags": []
   },
   "outputs": [],
   "source": [
    "tr_data, te_data = train_test_split(train,\n",
    "                                    test_size=TEST_SIZE,\n",
    "                                    random_state=RANDOM_STATE,\n",
    "                                    stratify=train[TARGET_NAME])\n",
    "tr_data = tr_data.reset_index(drop=True)\n",
    "target = te_data[TARGET_NAME]"
   ]
  },
  {
   "cell_type": "markdown",
   "id": "3b4afc91",
   "metadata": {
    "papermill": {
     "duration": 0.009585,
     "end_time": "2023-02-14T23:05:26.554898",
     "exception": false,
     "start_time": "2023-02-14T23:05:26.545313",
     "status": "completed"
    },
    "tags": []
   },
   "source": [
    "### 2.3 Предобработка категориальных признаков"
   ]
  },
  {
   "cell_type": "code",
   "execution_count": 6,
   "id": "3a632c3c",
   "metadata": {
    "execution": {
     "iopub.execute_input": "2023-02-14T23:05:26.576276Z",
     "iopub.status.busy": "2023-02-14T23:05:26.575846Z",
     "iopub.status.idle": "2023-02-14T23:05:26.919003Z",
     "shell.execute_reply": "2023-02-14T23:05:26.917617Z"
    },
    "papermill": {
     "duration": 0.357731,
     "end_time": "2023-02-14T23:05:26.922455",
     "exception": false,
     "start_time": "2023-02-14T23:05:26.564724",
     "status": "completed"
    },
    "tags": []
   },
   "outputs": [],
   "source": [
    "encoder = OrdinalEncoder(handle_unknown='use_encoded_value', unknown_value=-1)\n",
    "tr_data[cat_features] = encoder.fit_transform(tr_data[cat_features])\n",
    "te_data[cat_features] = encoder.transform(te_data[cat_features])"
   ]
  },
  {
   "cell_type": "markdown",
   "id": "db66cfc4",
   "metadata": {
    "papermill": {
     "duration": 0.016088,
     "end_time": "2023-02-14T23:05:26.948651",
     "exception": false,
     "start_time": "2023-02-14T23:05:26.932563",
     "status": "completed"
    },
    "tags": []
   },
   "source": [
    "## 3 Вспомогательные функции"
   ]
  },
  {
   "cell_type": "markdown",
   "id": "41852dce",
   "metadata": {
    "papermill": {
     "duration": 0.00969,
     "end_time": "2023-02-14T23:05:26.971267",
     "exception": false,
     "start_time": "2023-02-14T23:05:26.961577",
     "status": "completed"
    },
    "tags": []
   },
   "source": [
    "### 3.1 Функция для обучения модели"
   ]
  },
  {
   "cell_type": "code",
   "execution_count": 7,
   "id": "6218a217",
   "metadata": {
    "execution": {
     "iopub.execute_input": "2023-02-14T23:05:26.993400Z",
     "iopub.status.busy": "2023-02-14T23:05:26.992960Z",
     "iopub.status.idle": "2023-02-14T23:05:27.007918Z",
     "shell.execute_reply": "2023-02-14T23:05:27.006719Z"
    },
    "papermill": {
     "duration": 0.029138,
     "end_time": "2023-02-14T23:05:27.010809",
     "exception": false,
     "start_time": "2023-02-14T23:05:26.981671",
     "status": "completed"
    },
    "tags": []
   },
   "outputs": [],
   "source": [
    "def xgb_training(train_df, params, test_df=None, verbose=True):\n",
    "    \"\"\"\n",
    "    Функция для обучения модели.\n",
    "    \n",
    "    Параметры\n",
    "    ----------\n",
    "    train_df - обучающая выборка\n",
    "    params - набор гиперпараметров\n",
    "    test_df - тестовая выборка\n",
    "    verbose - нужно ли выводить результаты\n",
    "    \n",
    "    Возвращает\n",
    "    -------\n",
    "    score_list - roc-auc на кросс-валидации для каждого фолда\n",
    "    test_preds - предсказания на тестовой выборке, если тестовая выборка задана\n",
    "    \"\"\"\n",
    "    test_preds = []\n",
    "    if test_df is not None:\n",
    "        test_preds = np.zeros(len(test_df))\n",
    "        test_df = xgb.DMatrix(test_df[features])\n",
    "    target = train_df.loc[:, TARGET_NAME].values\n",
    "\n",
    "    score_list = []\n",
    "    kf = StratifiedKFold(n_splits=N_FOLDS,\n",
    "                         shuffle=True,\n",
    "                         random_state=RANDOM_STATE)\n",
    "    for fold, (train_index, val_index) in enumerate(kf.split(train_df,\n",
    "                                                             target)):\n",
    "        X_train = train_df.loc[train_index, features]\n",
    "        X_val = train_df.loc[val_index, features]\n",
    "        y_train = target[train_index]\n",
    "        y_val = target[val_index]\n",
    "        dtrain = xgb.DMatrix(data=X_train, label=y_train)\n",
    "        dvalid = xgb.DMatrix(data=X_val, label=y_val)\n",
    "\n",
    "        model = xgb.train(params,\n",
    "                          dtrain=dtrain,\n",
    "                          evals=[(dtrain, 'train'), (dvalid, 'eval')],\n",
    "                          num_boost_round=10000,\n",
    "                          early_stopping_rounds=100,\n",
    "                          verbose_eval=100 if verbose else 0)\n",
    "\n",
    "        preds = model.predict(dvalid)\n",
    "        score = roc_auc_score(y_val, preds)\n",
    "\n",
    "        if test_df is not None:\n",
    "            test_preds += model.predict(test_df) / kf.n_splits\n",
    "\n",
    "        if verbose:\n",
    "            print(\n",
    "                f\"{Fore.BLACK}{Style.BRIGHT}FOLD: {fold}, ROC-AUC: {score:.5f} {Style.RESET_ALL}\"\n",
    "            )\n",
    "        score_list.append(score)\n",
    "\n",
    "    return score_list, test_preds"
   ]
  },
  {
   "cell_type": "markdown",
   "id": "b302610c",
   "metadata": {
    "papermill": {
     "duration": 0.009544,
     "end_time": "2023-02-14T23:05:27.030417",
     "exception": false,
     "start_time": "2023-02-14T23:05:27.020873",
     "status": "completed"
    },
    "tags": []
   },
   "source": [
    "## 4 Гиперпараметры по умолчанию"
   ]
  },
  {
   "cell_type": "code",
   "execution_count": 8,
   "id": "d041590e",
   "metadata": {
    "execution": {
     "iopub.execute_input": "2023-02-14T23:05:27.051821Z",
     "iopub.status.busy": "2023-02-14T23:05:27.051417Z",
     "iopub.status.idle": "2023-02-14T23:05:27.057276Z",
     "shell.execute_reply": "2023-02-14T23:05:27.055826Z"
    },
    "papermill": {
     "duration": 0.019265,
     "end_time": "2023-02-14T23:05:27.059576",
     "exception": false,
     "start_time": "2023-02-14T23:05:27.040311",
     "status": "completed"
    },
    "tags": []
   },
   "outputs": [],
   "source": [
    "params = {\n",
    "    'eval_metric': 'auc',\n",
    "    'objective': 'binary:logistic',\n",
    "    'random_state': RANDOM_STATE,\n",
    "    'eta': 0.03\n",
    "}"
   ]
  },
  {
   "cell_type": "code",
   "execution_count": 9,
   "id": "92819dee",
   "metadata": {
    "execution": {
     "iopub.execute_input": "2023-02-14T23:05:27.081328Z",
     "iopub.status.busy": "2023-02-14T23:05:27.080889Z",
     "iopub.status.idle": "2023-02-14T23:07:57.094775Z",
     "shell.execute_reply": "2023-02-14T23:07:57.093843Z"
    },
    "papermill": {
     "duration": 150.028488,
     "end_time": "2023-02-14T23:07:57.097885",
     "exception": false,
     "start_time": "2023-02-14T23:05:27.069397",
     "status": "completed"
    },
    "tags": []
   },
   "outputs": [
    {
     "name": "stdout",
     "output_type": "stream",
     "text": [
      "[0]\ttrain-auc:0.77715\teval-auc:0.74478\n",
      "[100]\ttrain-auc:0.91320\teval-auc:0.82994\n",
      "[200]\ttrain-auc:0.94143\teval-auc:0.83953\n",
      "[300]\ttrain-auc:0.95817\teval-auc:0.84457\n",
      "[400]\ttrain-auc:0.96862\teval-auc:0.84252\n",
      "\u001b[30m\u001b[1mFOLD: 0, ROC-AUC: 0.84252 \u001b[0m\n",
      "[0]\ttrain-auc:0.80107\teval-auc:0.78301\n",
      "[100]\ttrain-auc:0.91142\teval-auc:0.83058\n",
      "[200]\ttrain-auc:0.94494\teval-auc:0.84558\n",
      "[300]\ttrain-auc:0.95737\teval-auc:0.84943\n",
      "[400]\ttrain-auc:0.97018\teval-auc:0.84948\n",
      "[417]\ttrain-auc:0.97153\teval-auc:0.84953\n",
      "\u001b[30m\u001b[1mFOLD: 1, ROC-AUC: 0.84951 \u001b[0m\n",
      "[0]\ttrain-auc:0.79205\teval-auc:0.73888\n",
      "[100]\ttrain-auc:0.90745\teval-auc:0.81540\n",
      "[200]\ttrain-auc:0.94025\teval-auc:0.82998\n",
      "[300]\ttrain-auc:0.95362\teval-auc:0.83565\n",
      "[400]\ttrain-auc:0.96603\teval-auc:0.84065\n",
      "[500]\ttrain-auc:0.97497\teval-auc:0.84316\n",
      "[598]\ttrain-auc:0.98108\teval-auc:0.84061\n",
      "\u001b[30m\u001b[1mFOLD: 2, ROC-AUC: 0.84066 \u001b[0m\n",
      "[0]\ttrain-auc:0.79871\teval-auc:0.81892\n",
      "[100]\ttrain-auc:0.91481\teval-auc:0.84384\n",
      "[200]\ttrain-auc:0.94032\teval-auc:0.85625\n",
      "[300]\ttrain-auc:0.95316\teval-auc:0.85577\n",
      "[318]\ttrain-auc:0.95616\teval-auc:0.85465\n",
      "\u001b[30m\u001b[1mFOLD: 3, ROC-AUC: 0.85471 \u001b[0m\n",
      "[0]\ttrain-auc:0.80072\teval-auc:0.80363\n",
      "[100]\ttrain-auc:0.91420\teval-auc:0.84207\n",
      "[200]\ttrain-auc:0.93884\teval-auc:0.84624\n",
      "[300]\ttrain-auc:0.95192\teval-auc:0.84809\n",
      "[360]\ttrain-auc:0.96023\teval-auc:0.84742\n",
      "\u001b[30m\u001b[1mFOLD: 4, ROC-AUC: 0.84742 \u001b[0m\n",
      "\u001b[32m\u001b[1m\n",
      "ROC-AUC на кросс-валидации: 0.84696 +- 0.00503\n",
      "\u001b[31mROC-AUC на отложенной выборке: 0.83312\u001b[0m\n"
     ]
    }
   ],
   "source": [
    "oof_score, holdout_pred = xgb_training(tr_data, params, te_data)\n",
    "print(\n",
    "    f\"{Fore.GREEN}{Style.BRIGHT}\\nROC-AUC на кросс-валидации: {np.mean(oof_score):.5f} +- {np.std(oof_score):.5f}\"\n",
    ")\n",
    "print(\n",
    "    f\"{Fore.RED}ROC-AUC на отложенной выборке: {roc_auc_score(te_data[TARGET_NAME],holdout_pred):.5f}{Style.RESET_ALL}\"\n",
    ")"
   ]
  },
  {
   "cell_type": "markdown",
   "id": "236467eb",
   "metadata": {
    "papermill": {
     "duration": 0.011949,
     "end_time": "2023-02-14T23:07:57.122710",
     "exception": false,
     "start_time": "2023-02-14T23:07:57.110761",
     "status": "completed"
    },
    "tags": []
   },
   "source": [
    "## 5 Оптимизация гиперпараметров"
   ]
  },
  {
   "cell_type": "code",
   "execution_count": 10,
   "id": "82dc34c1",
   "metadata": {
    "execution": {
     "iopub.execute_input": "2023-02-14T23:07:57.149535Z",
     "iopub.status.busy": "2023-02-14T23:07:57.148730Z",
     "iopub.status.idle": "2023-02-14T23:07:57.158841Z",
     "shell.execute_reply": "2023-02-14T23:07:57.157934Z"
    },
    "papermill": {
     "duration": 0.02646,
     "end_time": "2023-02-14T23:07:57.161229",
     "exception": false,
     "start_time": "2023-02-14T23:07:57.134769",
     "status": "completed"
    },
    "tags": []
   },
   "outputs": [],
   "source": [
    "def xgb_objective(trial):\n",
    "    params = {\n",
    "        'eval_metric':\n",
    "        'auc',\n",
    "        'objective':\n",
    "        'binary:logistic',\n",
    "        'random_state':\n",
    "        RANDOM_STATE,\n",
    "        'grow_policy':\n",
    "        trial.suggest_categorical('grow_policy', ['lossguide', 'depthwise']),\n",
    "        'learning_rate':\n",
    "        trial.suggest_float('learning_rate', 0.01, 0.2),\n",
    "        'max_depth':\n",
    "        trial.suggest_int('max_depth', 3, 15),\n",
    "        'reg_alpha':\n",
    "        trial.suggest_float('reg_alpha', 0, 20),\n",
    "        'reg_lambda':\n",
    "        trial.suggest_float('reg_lambda', 0, 20),\n",
    "        'min_child_weight':\n",
    "        trial.suggest_int('min_child_weight', 1, 300),\n",
    "        'colsample_bytree':\n",
    "        trial.suggest_float('colsample_bytree', 0.5, 1.0),\n",
    "        'subsample':\n",
    "        trial.suggest_float('subsample', 0.5, 1.0),\n",
    "        'scale_pos_weight':\n",
    "        trial.suggest_int('scale_pos_weight', 1, 10)\n",
    "    }\n",
    "    if params['grow_policy'] == 'lossguide':\n",
    "        params['max_leaves'] = trial.suggest_int('max_leaves', 1, 100)\n",
    "\n",
    "    score, _ = xgb_training(tr_data, params, verbose=False)\n",
    "    score = np.mean(score)\n",
    "\n",
    "    return score"
   ]
  },
  {
   "cell_type": "code",
   "execution_count": 11,
   "id": "cce19050",
   "metadata": {
    "execution": {
     "iopub.execute_input": "2023-02-14T23:07:57.187521Z",
     "iopub.status.busy": "2023-02-14T23:07:57.187107Z",
     "iopub.status.idle": "2023-02-14T23:41:50.235893Z",
     "shell.execute_reply": "2023-02-14T23:41:50.234341Z"
    },
    "papermill": {
     "duration": 2033.065564,
     "end_time": "2023-02-14T23:41:50.239258",
     "exception": false,
     "start_time": "2023-02-14T23:07:57.173694",
     "status": "completed"
    },
    "tags": []
   },
   "outputs": [],
   "source": [
    "study = optuna.create_study(study_name=\"xgboost\", direction='maximize')\n",
    "study.optimize(xgb_objective, n_trials=25)"
   ]
  },
  {
   "cell_type": "markdown",
   "id": "db14056d",
   "metadata": {
    "papermill": {
     "duration": 0.011975,
     "end_time": "2023-02-14T23:41:50.263883",
     "exception": false,
     "start_time": "2023-02-14T23:41:50.251908",
     "status": "completed"
    },
    "tags": []
   },
   "source": [
    "Посмотрим на подобранные гиперпараметры"
   ]
  },
  {
   "cell_type": "code",
   "execution_count": 12,
   "id": "1725b696",
   "metadata": {
    "execution": {
     "iopub.execute_input": "2023-02-14T23:41:50.291392Z",
     "iopub.status.busy": "2023-02-14T23:41:50.289780Z",
     "iopub.status.idle": "2023-02-14T23:41:50.300925Z",
     "shell.execute_reply": "2023-02-14T23:41:50.299652Z"
    },
    "papermill": {
     "duration": 0.027582,
     "end_time": "2023-02-14T23:41:50.303419",
     "exception": false,
     "start_time": "2023-02-14T23:41:50.275837",
     "status": "completed"
    },
    "tags": []
   },
   "outputs": [
    {
     "data": {
      "text/plain": [
       "{'grow_policy': 'depthwise',\n",
       " 'learning_rate': 0.010924320909852823,\n",
       " 'max_depth': 7,\n",
       " 'reg_alpha': 0.30042952524701005,\n",
       " 'reg_lambda': 17.251318265146846,\n",
       " 'min_child_weight': 73,\n",
       " 'colsample_bytree': 0.8800484431076853,\n",
       " 'subsample': 0.7611038119933783,\n",
       " 'scale_pos_weight': 8}"
      ]
     },
     "execution_count": 12,
     "metadata": {},
     "output_type": "execute_result"
    }
   ],
   "source": [
    "study.best_params"
   ]
  },
  {
   "cell_type": "code",
   "execution_count": 13,
   "id": "6e943378",
   "metadata": {
    "execution": {
     "iopub.execute_input": "2023-02-14T23:41:50.331878Z",
     "iopub.status.busy": "2023-02-14T23:41:50.330860Z",
     "iopub.status.idle": "2023-02-14T23:41:51.498760Z",
     "shell.execute_reply": "2023-02-14T23:41:51.497248Z"
    },
    "papermill": {
     "duration": 1.184771,
     "end_time": "2023-02-14T23:41:51.501212",
     "exception": false,
     "start_time": "2023-02-14T23:41:50.316441",
     "status": "completed"
    },
    "tags": []
   },
   "outputs": [
    {
     "data": {
      "image/svg+xml": [
       "<svg class=\"main-svg\" xmlns=\"http://www.w3.org/2000/svg\" xmlns:xlink=\"http://www.w3.org/1999/xlink\" width=\"700\" height=\"500\" style=\"\" viewBox=\"0 0 700 500\"><rect x=\"0\" y=\"0\" width=\"700\" height=\"500\" style=\"fill: rgb(255, 255, 255); fill-opacity: 1;\"/><defs id=\"defs-d3d395\"><g class=\"clips\"><clipPath id=\"clipd3d395xyplot\" class=\"plotclip\"><rect width=\"476\" height=\"320\"/></clipPath><clipPath class=\"axesclip\" id=\"clipd3d395x\"><rect x=\"144\" y=\"0\" width=\"476\" height=\"500\"/></clipPath><clipPath class=\"axesclip\" id=\"clipd3d395y\"><rect x=\"0\" y=\"100\" width=\"700\" height=\"320\"/></clipPath><clipPath class=\"axesclip\" id=\"clipd3d395xy\"><rect x=\"144\" y=\"100\" width=\"476\" height=\"320\"/></clipPath></g><g class=\"gradients\"/><g class=\"patterns\"/></defs><g class=\"bglayer\"><rect class=\"bg\" x=\"144\" y=\"100\" width=\"476\" height=\"320\" style=\"fill: rgb(229, 236, 246); fill-opacity: 1; stroke-width: 0;\"/></g><g class=\"layer-below\"><g class=\"imagelayer\"/><g class=\"shapelayer\"/></g><g class=\"cartesianlayer\"><g class=\"subplot xy\"><g class=\"layer-subplot\"><g class=\"shapelayer\"/><g class=\"imagelayer\"/></g><g class=\"minor-gridlayer\"><g class=\"x\"/><g class=\"y\"/></g><g class=\"gridlayer\"><g class=\"x\"><path class=\"xgrid crisp\" transform=\"translate(228.54000000000002,0)\" d=\"M0,100v320\" style=\"stroke: rgb(255, 255, 255); stroke-opacity: 1; stroke-width: 1px;\"/><path class=\"xgrid crisp\" transform=\"translate(313.08000000000004,0)\" d=\"M0,100v320\" style=\"stroke: rgb(255, 255, 255); stroke-opacity: 1; stroke-width: 1px;\"/><path class=\"xgrid crisp\" transform=\"translate(397.63,0)\" d=\"M0,100v320\" style=\"stroke: rgb(255, 255, 255); stroke-opacity: 1; stroke-width: 1px;\"/><path class=\"xgrid crisp\" transform=\"translate(482.17,0)\" d=\"M0,100v320\" style=\"stroke: rgb(255, 255, 255); stroke-opacity: 1; stroke-width: 1px;\"/><path class=\"xgrid crisp\" transform=\"translate(566.71,0)\" d=\"M0,100v320\" style=\"stroke: rgb(255, 255, 255); stroke-opacity: 1; stroke-width: 1px;\"/></g><g class=\"y\"/></g><g class=\"zerolinelayer\"><path class=\"xzl zl crisp\" transform=\"translate(144,0)\" d=\"M0,100v320\" style=\"stroke: rgb(255, 255, 255); stroke-opacity: 1; stroke-width: 2px;\"/></g><path class=\"xlines-below\"/><path class=\"ylines-below\"/><g class=\"overlines-below\"/><g class=\"xaxislayer-below\"/><g class=\"yaxislayer-below\"/><g class=\"overaxes-below\"/><g class=\"plot\" transform=\"translate(144,100)\"><g class=\"barlayer mlayer\"><g class=\"trace bars\" style=\"opacity: 1;\"><g class=\"points\"><g class=\"point\"><path d=\"M0,316.44V288H2.71V316.44Z\" clip-path=\"url(#clipd3d395xyplot)\" style=\"vector-effect: none; opacity: 1; stroke-width: 0.5px; fill: rgb(66, 146, 198); fill-opacity: 1; stroke: rgb(229, 236, 246); stroke-opacity: 1;\"/><text class=\"bartext bartext-outside\" text-anchor=\"middle\" data-notex=\"1\" x=\"0\" y=\"0\" style=\"font-family: 'Open Sans', verdana, arial, sans-serif; font-size: 12px; fill: rgb(42, 63, 95); fill-opacity: 1; white-space: pre;\" transform=\"translate(19.350625,306.72)\">0.00</text></g><g class=\"point\"><path d=\"M0,280.89V252.44H6.11V280.89Z\" clip-path=\"url(#clipd3d395xyplot)\" style=\"vector-effect: none; opacity: 1; stroke-width: 0.5px; fill: rgb(66, 146, 198); fill-opacity: 1; stroke: rgb(229, 236, 246); stroke-opacity: 1;\"/><text class=\"bartext bartext-outside\" text-anchor=\"middle\" data-notex=\"1\" x=\"0\" y=\"0\" style=\"font-family: 'Open Sans', verdana, arial, sans-serif; font-size: 12px; fill: rgb(42, 63, 95); fill-opacity: 1; white-space: pre;\" transform=\"translate(22.750625,271.16499999999996)\">0.01</text></g><g class=\"point\"><path d=\"M0,245.33V216.89H6.44V245.33Z\" clip-path=\"url(#clipd3d395xyplot)\" style=\"vector-effect: none; opacity: 1; stroke-width: 0.5px; fill: rgb(66, 146, 198); fill-opacity: 1; stroke: rgb(229, 236, 246); stroke-opacity: 1;\"/><text class=\"bartext bartext-outside\" text-anchor=\"middle\" data-notex=\"1\" x=\"0\" y=\"0\" style=\"font-family: 'Open Sans', verdana, arial, sans-serif; font-size: 12px; fill: rgb(42, 63, 95); fill-opacity: 1; white-space: pre;\" transform=\"translate(23.080625,235.61)\">0.01</text></g><g class=\"point\"><path d=\"M0,209.78V181.33H10.5V209.78Z\" clip-path=\"url(#clipd3d395xyplot)\" style=\"vector-effect: none; opacity: 1; stroke-width: 0.5px; fill: rgb(66, 146, 198); fill-opacity: 1; stroke: rgb(229, 236, 246); stroke-opacity: 1;\"/><text class=\"bartext bartext-outside\" text-anchor=\"middle\" data-notex=\"1\" x=\"0\" y=\"0\" style=\"font-family: 'Open Sans', verdana, arial, sans-serif; font-size: 12px; fill: rgb(42, 63, 95); fill-opacity: 1; white-space: pre;\" transform=\"translate(27.140625,200.055)\">0.01</text></g><g class=\"point\"><path d=\"M0,174.22V145.78H21.65V174.22Z\" clip-path=\"url(#clipd3d395xyplot)\" style=\"vector-effect: none; opacity: 1; stroke-width: 0.5px; fill: rgb(66, 146, 198); fill-opacity: 1; stroke: rgb(229, 236, 246); stroke-opacity: 1;\"/><text class=\"bartext bartext-outside\" text-anchor=\"middle\" data-notex=\"1\" x=\"0\" y=\"0\" style=\"font-family: 'Open Sans', verdana, arial, sans-serif; font-size: 12px; fill: rgb(42, 63, 95); fill-opacity: 1; white-space: pre;\" transform=\"translate(38.290625,164.5)\">0.03</text></g><g class=\"point\"><path d=\"M0,138.67V110.22H33.4V138.67Z\" clip-path=\"url(#clipd3d395xyplot)\" style=\"vector-effect: none; opacity: 1; stroke-width: 0.5px; fill: rgb(66, 146, 198); fill-opacity: 1; stroke: rgb(229, 236, 246); stroke-opacity: 1;\"/><text class=\"bartext bartext-outside\" text-anchor=\"middle\" data-notex=\"1\" x=\"0\" y=\"0\" style=\"font-family: 'Open Sans', verdana, arial, sans-serif; font-size: 12px; fill: rgb(42, 63, 95); fill-opacity: 1; white-space: pre;\" transform=\"translate(50.040625,128.945)\">0.04</text></g><g class=\"point\"><path d=\"M0,103.11V74.67H41.11V103.11Z\" clip-path=\"url(#clipd3d395xyplot)\" style=\"vector-effect: none; opacity: 1; stroke-width: 0.5px; fill: rgb(66, 146, 198); fill-opacity: 1; stroke: rgb(229, 236, 246); stroke-opacity: 1;\"/><text class=\"bartext bartext-outside\" text-anchor=\"middle\" data-notex=\"1\" x=\"0\" y=\"0\" style=\"font-family: 'Open Sans', verdana, arial, sans-serif; font-size: 12px; fill: rgb(42, 63, 95); fill-opacity: 1; white-space: pre;\" transform=\"translate(57.750625,93.39)\">0.05</text></g><g class=\"point\"><path d=\"M0,67.56V39.11H271.29V67.56Z\" clip-path=\"url(#clipd3d395xyplot)\" style=\"vector-effect: none; opacity: 1; stroke-width: 0.5px; fill: rgb(66, 146, 198); fill-opacity: 1; stroke: rgb(229, 236, 246); stroke-opacity: 1;\"/><text class=\"bartext bartext-outside\" text-anchor=\"middle\" data-notex=\"1\" x=\"0\" y=\"0\" style=\"font-family: 'Open Sans', verdana, arial, sans-serif; font-size: 12px; fill: rgb(42, 63, 95); fill-opacity: 1; white-space: pre;\" transform=\"translate(287.930625,57.835)\">0.32</text></g><g class=\"point\"><path d=\"M0,32V3.56H452.2V32Z\" clip-path=\"url(#clipd3d395xyplot)\" style=\"vector-effect: none; opacity: 1; stroke-width: 0.5px; fill: rgb(66, 146, 198); fill-opacity: 1; stroke: rgb(229, 236, 246); stroke-opacity: 1;\"/><text class=\"bartext bartext-outside\" text-anchor=\"middle\" data-notex=\"1\" x=\"0\" y=\"0\" style=\"font-family: 'Open Sans', verdana, arial, sans-serif; font-size: 12px; fill: rgb(42, 63, 95); fill-opacity: 1; white-space: pre;\" transform=\"translate(468.840625,22.28)\">0.53</text></g></g></g></g></g><g class=\"overplot\"/><path class=\"xlines-above crisp\" d=\"M0,0\" style=\"fill: none;\"/><path class=\"ylines-above crisp\" d=\"M0,0\" style=\"fill: none;\"/><g class=\"overlines-above\"/><g class=\"xaxislayer-above\"><g class=\"xtick\"><text text-anchor=\"middle\" x=\"0\" y=\"433\" transform=\"translate(144,0)\" style=\"font-family: 'Open Sans', verdana, arial, sans-serif; font-size: 12px; fill: rgb(42, 63, 95); fill-opacity: 1; white-space: pre; opacity: 1;\">0</text></g><g class=\"xtick\"><text text-anchor=\"middle\" x=\"0\" y=\"433\" style=\"font-family: 'Open Sans', verdana, arial, sans-serif; font-size: 12px; fill: rgb(42, 63, 95); fill-opacity: 1; white-space: pre; opacity: 1;\" transform=\"translate(228.54000000000002,0)\">0.1</text></g><g class=\"xtick\"><text text-anchor=\"middle\" x=\"0\" y=\"433\" style=\"font-family: 'Open Sans', verdana, arial, sans-serif; font-size: 12px; fill: rgb(42, 63, 95); fill-opacity: 1; white-space: pre; opacity: 1;\" transform=\"translate(313.08000000000004,0)\">0.2</text></g><g class=\"xtick\"><text text-anchor=\"middle\" x=\"0\" y=\"433\" style=\"font-family: 'Open Sans', verdana, arial, sans-serif; font-size: 12px; fill: rgb(42, 63, 95); fill-opacity: 1; white-space: pre; opacity: 1;\" transform=\"translate(397.63,0)\">0.3</text></g><g class=\"xtick\"><text text-anchor=\"middle\" x=\"0\" y=\"433\" style=\"font-family: 'Open Sans', verdana, arial, sans-serif; font-size: 12px; fill: rgb(42, 63, 95); fill-opacity: 1; white-space: pre; opacity: 1;\" transform=\"translate(482.17,0)\">0.4</text></g><g class=\"xtick\"><text text-anchor=\"middle\" x=\"0\" y=\"433\" style=\"font-family: 'Open Sans', verdana, arial, sans-serif; font-size: 12px; fill: rgb(42, 63, 95); fill-opacity: 1; white-space: pre; opacity: 1;\" transform=\"translate(566.71,0)\">0.5</text></g></g><g class=\"yaxislayer-above\"><g class=\"ytick\"><text text-anchor=\"end\" x=\"143\" y=\"4.199999999999999\" transform=\"translate(0,402.22)\" style=\"font-family: 'Open Sans', verdana, arial, sans-serif; font-size: 12px; fill: rgb(42, 63, 95); fill-opacity: 1; white-space: pre; opacity: 1;\">grow_policy</text></g><g class=\"ytick\"><text text-anchor=\"end\" x=\"143\" y=\"4.199999999999999\" transform=\"translate(0,366.67)\" style=\"font-family: 'Open Sans', verdana, arial, sans-serif; font-size: 12px; fill: rgb(42, 63, 95); fill-opacity: 1; white-space: pre; opacity: 1;\">max_depth</text></g><g class=\"ytick\"><text text-anchor=\"end\" x=\"143\" y=\"4.199999999999999\" transform=\"translate(0,331.11)\" style=\"font-family: 'Open Sans', verdana, arial, sans-serif; font-size: 12px; fill: rgb(42, 63, 95); fill-opacity: 1; white-space: pre; opacity: 1;\">reg_lambda</text></g><g class=\"ytick\"><text text-anchor=\"end\" x=\"143\" y=\"4.199999999999999\" transform=\"translate(0,295.56)\" style=\"font-family: 'Open Sans', verdana, arial, sans-serif; font-size: 12px; fill: rgb(42, 63, 95); fill-opacity: 1; white-space: pre; opacity: 1;\">subsample</text></g><g class=\"ytick\"><text text-anchor=\"end\" x=\"143\" y=\"4.199999999999999\" transform=\"translate(0,260)\" style=\"font-family: 'Open Sans', verdana, arial, sans-serif; font-size: 12px; fill: rgb(42, 63, 95); fill-opacity: 1; white-space: pre; opacity: 1;\">colsample_bytree</text></g><g class=\"ytick\"><text text-anchor=\"end\" x=\"143\" y=\"4.199999999999999\" transform=\"translate(0,224.44)\" style=\"font-family: 'Open Sans', verdana, arial, sans-serif; font-size: 12px; fill: rgb(42, 63, 95); fill-opacity: 1; white-space: pre; opacity: 1;\">min_child_weight</text></g><g class=\"ytick\"><text text-anchor=\"end\" x=\"143\" y=\"4.199999999999999\" transform=\"translate(0,188.89)\" style=\"font-family: 'Open Sans', verdana, arial, sans-serif; font-size: 12px; fill: rgb(42, 63, 95); fill-opacity: 1; white-space: pre; opacity: 1;\">reg_alpha</text></g><g class=\"ytick\"><text text-anchor=\"end\" x=\"143\" y=\"4.199999999999999\" transform=\"translate(0,153.32999999999998)\" style=\"font-family: 'Open Sans', verdana, arial, sans-serif; font-size: 12px; fill: rgb(42, 63, 95); fill-opacity: 1; white-space: pre; opacity: 1;\">scale_pos_weight</text></g><g class=\"ytick\"><text text-anchor=\"end\" x=\"143\" y=\"4.199999999999999\" transform=\"translate(0,117.78)\" style=\"font-family: 'Open Sans', verdana, arial, sans-serif; font-size: 12px; fill: rgb(42, 63, 95); fill-opacity: 1; white-space: pre; opacity: 1;\">learning_rate</text></g></g><g class=\"overaxes-above\"/></g></g><g class=\"polarlayer\"/><g class=\"smithlayer\"/><g class=\"ternarylayer\"/><g class=\"geolayer\"/><g class=\"funnelarealayer\"/><g class=\"pielayer\"/><g class=\"iciclelayer\"/><g class=\"treemaplayer\"/><g class=\"sunburstlayer\"/><g class=\"glimages\"/><defs id=\"topdefs-d3d395\"><g class=\"clips\"/></defs><g class=\"layer-above\"><g class=\"imagelayer\"/><g class=\"shapelayer\"/></g><g class=\"infolayer\"><g class=\"g-gtitle\"><text class=\"gtitle\" x=\"35\" y=\"50\" text-anchor=\"start\" dy=\"0em\" style=\"font-family: 'Open Sans', verdana, arial, sans-serif; font-size: 17px; fill: rgb(42, 63, 95); opacity: 1; font-weight: normal; white-space: pre;\">Hyperparameter Importances</text></g><g class=\"g-xtitle\"><text class=\"xtitle\" x=\"382\" y=\"460.3\" text-anchor=\"middle\" style=\"font-family: 'Open Sans', verdana, arial, sans-serif; font-size: 14px; fill: rgb(42, 63, 95); opacity: 1; font-weight: normal; white-space: pre;\">Importance for Objective Value</text></g><g class=\"g-ytitle\" transform=\"translate(1.7841796875,0)\"><text class=\"ytitle\" transform=\"rotate(-90,12.215624999999989,260)\" x=\"12.215624999999989\" y=\"260\" text-anchor=\"middle\" style=\"font-family: 'Open Sans', verdana, arial, sans-serif; font-size: 14px; fill: rgb(42, 63, 95); opacity: 1; font-weight: normal; white-space: pre;\">Hyperparameter</text></g></g></svg>"
      ]
     },
     "metadata": {},
     "output_type": "display_data"
    }
   ],
   "source": [
    "fig = optuna.visualization.plot_param_importances(study)\n",
    "fig.show('svg')"
   ]
  },
  {
   "cell_type": "markdown",
   "id": "8ad362e5",
   "metadata": {},
   "source": [
    "Наибольшую важность имеют learning_rate и scale_pos_weight (думаю, этот параметр играет большую роль, поскольку классы не сбалансированы)"
   ]
  },
  {
   "cell_type": "markdown",
   "id": "73622606",
   "metadata": {
    "papermill": {
     "duration": 0.011894,
     "end_time": "2023-02-14T23:41:51.525296",
     "exception": false,
     "start_time": "2023-02-14T23:41:51.513402",
     "status": "completed"
    },
    "tags": []
   },
   "source": [
    "Значение метрики на отложенной выборке"
   ]
  },
  {
   "cell_type": "code",
   "execution_count": 14,
   "id": "2543c826",
   "metadata": {
    "execution": {
     "iopub.execute_input": "2023-02-14T23:41:51.552274Z",
     "iopub.status.busy": "2023-02-14T23:41:51.551441Z",
     "iopub.status.idle": "2023-02-14T23:44:57.001006Z",
     "shell.execute_reply": "2023-02-14T23:44:56.999066Z"
    },
    "papermill": {
     "duration": 185.467393,
     "end_time": "2023-02-14T23:44:57.004790",
     "exception": false,
     "start_time": "2023-02-14T23:41:51.537397",
     "status": "completed"
    },
    "tags": []
   },
   "outputs": [
    {
     "name": "stdout",
     "output_type": "stream",
     "text": [
      "[0]\ttrain-auc:0.82638\teval-auc:0.80137\n",
      "[100]\ttrain-auc:0.88721\teval-auc:0.84041\n",
      "[200]\ttrain-auc:0.90089\teval-auc:0.84444\n",
      "[300]\ttrain-auc:0.90972\teval-auc:0.84645\n",
      "[400]\ttrain-auc:0.91715\teval-auc:0.84816\n",
      "[500]\ttrain-auc:0.92357\teval-auc:0.84858\n",
      "[600]\ttrain-auc:0.93047\teval-auc:0.84760\n",
      "[605]\ttrain-auc:0.93073\teval-auc:0.84748\n",
      "\u001b[30m\u001b[1mFOLD: 0, ROC-AUC: 0.84741 \u001b[0m\n",
      "[0]\ttrain-auc:0.82302\teval-auc:0.78171\n",
      "[100]\ttrain-auc:0.88740\teval-auc:0.83455\n",
      "[200]\ttrain-auc:0.90221\teval-auc:0.84518\n",
      "[300]\ttrain-auc:0.91156\teval-auc:0.84902\n",
      "[400]\ttrain-auc:0.91877\teval-auc:0.85058\n",
      "[500]\ttrain-auc:0.92460\teval-auc:0.85200\n",
      "[600]\ttrain-auc:0.93142\teval-auc:0.85285\n",
      "[700]\ttrain-auc:0.93783\teval-auc:0.85300\n",
      "[800]\ttrain-auc:0.94371\teval-auc:0.85260\n",
      "[812]\ttrain-auc:0.94430\teval-auc:0.85252\n",
      "\u001b[30m\u001b[1mFOLD: 1, ROC-AUC: 0.85246 \u001b[0m\n",
      "[0]\ttrain-auc:0.81393\teval-auc:0.75020\n",
      "[100]\ttrain-auc:0.88806\teval-auc:0.82475\n",
      "[200]\ttrain-auc:0.90259\teval-auc:0.83357\n",
      "[300]\ttrain-auc:0.91133\teval-auc:0.83839\n",
      "[400]\ttrain-auc:0.91785\teval-auc:0.84164\n",
      "[500]\ttrain-auc:0.92473\teval-auc:0.84376\n",
      "[600]\ttrain-auc:0.93085\teval-auc:0.84525\n",
      "[700]\ttrain-auc:0.93678\teval-auc:0.84537\n",
      "[800]\ttrain-auc:0.94178\teval-auc:0.84580\n",
      "[900]\ttrain-auc:0.94691\teval-auc:0.84625\n",
      "[991]\ttrain-auc:0.95113\teval-auc:0.84619\n",
      "\u001b[30m\u001b[1mFOLD: 2, ROC-AUC: 0.84618 \u001b[0m\n",
      "[0]\ttrain-auc:0.83524\teval-auc:0.82157\n",
      "[100]\ttrain-auc:0.88626\teval-auc:0.85449\n",
      "[200]\ttrain-auc:0.90102\teval-auc:0.85919\n",
      "[300]\ttrain-auc:0.91018\teval-auc:0.86115\n",
      "[400]\ttrain-auc:0.91731\teval-auc:0.86203\n",
      "[500]\ttrain-auc:0.92420\teval-auc:0.86167\n",
      "[530]\ttrain-auc:0.92605\teval-auc:0.86174\n",
      "\u001b[30m\u001b[1mFOLD: 3, ROC-AUC: 0.86176 \u001b[0m\n",
      "[0]\ttrain-auc:0.82449\teval-auc:0.80628\n",
      "[100]\ttrain-auc:0.89020\teval-auc:0.84401\n",
      "[200]\ttrain-auc:0.90439\teval-auc:0.84759\n",
      "[300]\ttrain-auc:0.91203\teval-auc:0.84997\n",
      "[400]\ttrain-auc:0.91891\teval-auc:0.85092\n",
      "[500]\ttrain-auc:0.92556\teval-auc:0.85094\n",
      "[507]\ttrain-auc:0.92604\teval-auc:0.85104\n",
      "\u001b[30m\u001b[1mFOLD: 4, ROC-AUC: 0.85102 \u001b[0m\n",
      "\u001b[32m\u001b[1m\n",
      "ROC-AUC на кросс-валидации: 0.85177 +- 0.00550\n",
      "\u001b[31mROC-AUC на отложенной выборке: 0.83738\u001b[0m\n"
     ]
    }
   ],
   "source": [
    "params.update(study.best_params)\n",
    "oof_score, holdout_pred = xgb_training(tr_data, params, te_data)\n",
    "print(\n",
    "    f\"{Fore.GREEN}{Style.BRIGHT}\\nROC-AUC на кросс-валидации: {np.mean(oof_score):.5f} +- {np.std(oof_score):.5f}\"\n",
    ")\n",
    "print(\n",
    "    f\"{Fore.RED}ROC-AUC на отложенной выборке: {roc_auc_score(te_data[TARGET_NAME],holdout_pred):.5f}{Style.RESET_ALL}\"\n",
    ")"
   ]
  },
  {
   "cell_type": "markdown",
   "id": "ed22c655",
   "metadata": {
    "papermill": {
     "duration": 0.016249,
     "end_time": "2023-02-14T23:44:57.037869",
     "exception": false,
     "start_time": "2023-02-14T23:44:57.021620",
     "status": "completed"
    },
    "tags": []
   },
   "source": [
    "## 6 Сравнение результатов:\n",
    "\n",
    "| Гиперпараметры | Кросс-валидация | Отложенная выборка |\n",
    "| :--- | :--- | :--- |\n",
    "| По умолчанию | 0.84696 | 0.83312 |\n",
    "| Optuna | 0.85177 | 0.83738 |"
   ]
  }
 ],
 "metadata": {
  "kernelspec": {
   "display_name": "Python 3 (ipykernel)",
   "language": "python",
   "name": "python3"
  },
  "language_info": {
   "codemirror_mode": {
    "name": "ipython",
    "version": 3
   },
   "file_extension": ".py",
   "mimetype": "text/x-python",
   "name": "python",
   "nbconvert_exporter": "python",
   "pygments_lexer": "ipython3",
   "version": "3.9.7"
  },
  "papermill": {
   "default_parameters": {},
   "duration": 2413.132364,
   "end_time": "2023-02-14T23:44:58.083499",
   "environment_variables": {},
   "exception": null,
   "input_path": "__notebook__.ipynb",
   "output_path": "__notebook__.ipynb",
   "parameters": {},
   "start_time": "2023-02-14T23:04:44.951135",
   "version": "2.3.4"
  },
  "varInspector": {
   "cols": {
    "lenName": 16,
    "lenType": 16,
    "lenVar": 40
   },
   "kernels_config": {
    "python": {
     "delete_cmd_postfix": "",
     "delete_cmd_prefix": "del ",
     "library": "var_list.py",
     "varRefreshCmd": "print(var_dic_list())"
    },
    "r": {
     "delete_cmd_postfix": ") ",
     "delete_cmd_prefix": "rm(",
     "library": "var_list.r",
     "varRefreshCmd": "cat(var_dic_list()) "
    }
   },
   "types_to_exclude": [
    "module",
    "function",
    "builtin_function_or_method",
    "instance",
    "_Feature"
   ],
   "window_display": false
  }
 },
 "nbformat": 4,
 "nbformat_minor": 5
}
